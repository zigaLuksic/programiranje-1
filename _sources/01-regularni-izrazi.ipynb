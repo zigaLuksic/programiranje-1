{
 "cells": [
  {
   "cell_type": "markdown",
   "metadata": {},
   "source": [
    "# Regularni izrazi\n",
    "\n",
    "Običajno moramo podatke, ki jih želimo analizirati, najprej prečistiti. Na primer, svetovni splet je bogat vir podatkov, vendar so ti dostikrat dostopni le v formatu HTML, ki poleg koristne vsebine vsebuje še marsikaj. Recimo, da nas zanimajo podatki o [250 filmih z največ glasovi na strani IMDB](https://www.imdb.com/search/title/?sort=num_votes,desc&title_type=feature&count=250). Vidimo, da stran ponuja veliko koristnih podatkov: naslov, leto izida, dolžno, žanre, ocene, igralce, opise, ...\n",
    "\n",
    "![250 najbolj znanih filmov](datoteke/250-najbolj-znanih-filmov.png)\n",
    "\n",
    "Če pa v brskalniku shranimo izvorno kodo in HTML datoteko odpremo, pa je podatke težko najti."
   ]
  },
  {
   "cell_type": "code",
   "execution_count": 1,
   "metadata": {},
   "outputs": [
    {
     "name": "stdout",
     "output_type": "stream",
     "text": [
      "\n",
      "\n",
      "\n",
      "<!DOCTYPE html>\n",
      "<html\n",
      "    xmlns:og=\"http://ogp.me/ns#\"\n",
      "    xmlns:fb=\"http://www.facebook.com/2008/fbml\">\n",
      "    <head>\n",
      "        \n",
      "<script type='text/javascript'>var ue_t0=ue_t0||+new Date();</script>\n",
      "<script type='text/javascript'>\n",
      "window.ue_ihb = (window.ue_ihb || window.ueinit || 0) + 1;\n",
      "if (window.ue_ihb === 1) {\n",
      "\n",
      "var ue_csm = window,\n",
      "    ue_hob = +new Date();\n",
      "(function(d){var e=d.ue=d.ue||{},f=Date.now||function(){return+new Date};e.d=function(b){return f()-(b?0:d.ue_t0)};e.stub=function(b,a){if(!b[a]){var c=[];b[a]=function(){c.push([c.slice.call(arguments),e.d(),d.ue_id])};b[a].replay=function(b){for(var a;a=c.shift();)b(a[0],a[1],a[2])};b[a].isStub=1}};e.exec=function(b,a){return function(){try{return b.apply(this,arguments)}catch(c){ueLogError(c,{attribution:a||\"undefined\",logLevel:\"WARN\"})}}}})(ue_csm);\n",
      "\n",
      "\n",
      "    var ue_err_chan = 'jserr';\n",
      "(function(d,e){function h(f,b){if(!(a.ec>a.mxe)&&f){a.ter.push(f);b=b||{};var c=f.logLevel||b.logLevel;c&&c!==k&&c!==m&&c!==n&&c!==p||a.ec++;c&&c\n"
     ]
    }
   ],
   "source": [
    "with open('datoteke/250-najbolj-znanih-filmov.html') as f:\n",
    "    html = f.read()\n",
    "\n",
    "print(html[:1000])"
   ]
  },
  {
   "cell_type": "markdown",
   "metadata": {},
   "source": [
    "Pomagajmo si s pomožno funkcijo, ki poišče začetke in konce vseh neprekrivajočih se pojavitev danega niza v besedilu."
   ]
  },
  {
   "cell_type": "code",
   "execution_count": 2,
   "metadata": {},
   "outputs": [],
   "source": [
    "def vse_pojavitve(besedilo: str, iskani_niz: str):\n",
    "    konec_pojavitve = 0\n",
    "    while True:\n",
    "        try:\n",
    "            zacetek_pojavitve = besedilo.index(iskani_niz, konec_pojavitve)\n",
    "            konec_pojavitve = min(zacetek_pojavitve + len(iskani_niz), len(besedilo))\n",
    "            yield zacetek_pojavitve, konec_pojavitve\n",
    "        except ValueError:\n",
    "            break"
   ]
  },
  {
   "cell_type": "code",
   "execution_count": 3,
   "metadata": {},
   "outputs": [
    {
     "data": {
      "text/plain": [
       "[(6, 8), (13, 15), (15, 17)]"
      ]
     },
     "execution_count": 3,
     "metadata": {},
     "output_type": "execute_result"
    }
   ],
   "source": [
    "list(vse_pojavitve('Ena sama je, mama!', 'ma'))"
   ]
  },
  {
   "cell_type": "markdown",
   "metadata": {},
   "source": [
    "Če želimo, lahko vsako pojavitev prikažemo v njenem kontekstu:"
   ]
  },
  {
   "cell_type": "code",
   "execution_count": 4,
   "metadata": {},
   "outputs": [],
   "source": [
    "def pokazi_vse_pojavitve(besedilo: str, iskani_niz: str, velikost_konteksta=50):\n",
    "    for zacetek, konec in vse_pojavitve(besedilo, iskani_niz):\n",
    "        zacetek_konteksta = max(zacetek - velikost_konteksta, 0)\n",
    "        konec_konteksta = min(konec + velikost_konteksta, len(besedilo))\n",
    "        print(besedilo[zacetek_konteksta:konec_konteksta])\n",
    "        print((zacetek - zacetek_konteksta) * ' ' + (konec - zacetek) * '^')"
   ]
  },
  {
   "cell_type": "code",
   "execution_count": 5,
   "metadata": {},
   "outputs": [
    {
     "name": "stdout",
     "output_type": "stream",
     "text": [
      "Ena sama je, mama!\n",
      "      ^^\n",
      "Ena sama je, mama!\n",
      "             ^^\n",
      "Ena sama je, mama!\n",
      "               ^^\n"
     ]
    }
   ],
   "source": [
    "pokazi_vse_pojavitve('Ena sama je, mama!', 'ma')"
   ]
  },
  {
   "cell_type": "markdown",
   "metadata": {},
   "source": [
    "Recimo, da nas zanimajo podatki o Vojni zvezd:"
   ]
  },
  {
   "cell_type": "code",
   "execution_count": 6,
   "metadata": {},
   "outputs": [
    {
     "name": "stdout",
     "output_type": "stream",
     "text": [
      "href=\"/title/tt0076759/?ref_=adv_li_i\"> <img alt=\"Star Wars: Episode IV - A New Hope\"class=\"loadlate\"loadlate\n",
      "                                                  ^^^^^^^^^\n",
      "       <a href=\"/title/tt0076759/?ref_=adv_li_tt\">Star Wars: Episode IV - A New Hope</a>    <span class=\"list\n",
      "                                                  ^^^^^^^^^\n",
      "href=\"/title/tt0080684/?ref_=adv_li_i\"> <img alt=\"Star Wars: Episode V - The Empire Strikes Back\"class=\"loadl\n",
      "                                                  ^^^^^^^^^\n",
      "       <a href=\"/title/tt0080684/?ref_=adv_li_tt\">Star Wars: Episode V - The Empire Strikes Back</a>    <span\n",
      "                                                  ^^^^^^^^^\n",
      "href=\"/title/tt0086190/?ref_=adv_li_i\"> <img alt=\"Star Wars: Episode VI - Return of the Jedi\"class=\"loadlate\"\n",
      "                                                  ^^^^^^^^^\n",
      "       <a href=\"/title/tt0086190/?ref_=adv_li_tt\">Star Wars: Episode VI - Return of the Jedi</a>    <span cla\n",
      "                                                  ^^^^^^^^^\n",
      "href=\"/title/tt2488496/?ref_=adv_li_i\"> <img alt=\"Star Wars: Episode VII - The Force Awakens\"class=\"loadlate\"\n",
      "                                                  ^^^^^^^^^\n",
      "       <a href=\"/title/tt2488496/?ref_=adv_li_tt\">Star Wars: Episode VII - The Force Awakens</a>    <span cla\n",
      "                                                  ^^^^^^^^^\n",
      "href=\"/title/tt0120915/?ref_=adv_li_i\"> <img alt=\"Star Wars: Episode I - The Phantom Menace\"class=\"loadlate\"l\n",
      "                                                  ^^^^^^^^^\n",
      "       <a href=\"/title/tt0120915/?ref_=adv_li_tt\">Star Wars: Episode I - The Phantom Menace</a>    <span clas\n",
      "                                                  ^^^^^^^^^\n",
      "href=\"/title/tt0121766/?ref_=adv_li_i\"> <img alt=\"Star Wars: Episode III - Revenge of the Sith\"class=\"loadlat\n",
      "                                                  ^^^^^^^^^\n",
      "       <a href=\"/title/tt0121766/?ref_=adv_li_tt\">Star Wars: Episode III - Revenge of the Sith</a>    <span c\n",
      "                                                  ^^^^^^^^^\n",
      "href=\"/title/tt0121765/?ref_=adv_li_i\"> <img alt=\"Star Wars: Episode II - Attack of the Clones\"class=\"loadlat\n",
      "                                                  ^^^^^^^^^\n",
      "       <a href=\"/title/tt0121765/?ref_=adv_li_tt\">Star Wars: Episode II - Attack of the Clones</a>    <span c\n",
      "                                                  ^^^^^^^^^\n",
      "tt3748528/?ref_=adv_li_i\"> <img alt=\"Rogue One: A Star Wars Story\"class=\"loadlate\"loadlate=\"https://m.media-a\n",
      "                                                  ^^^^^^^^^\n",
      "f=\"/title/tt3748528/?ref_=adv_li_tt\">Rogue One: A Star Wars Story</a>    <span class=\"lister-item-year text-m\n",
      "                                                  ^^^^^^^^^\n",
      "href=\"/title/tt2527336/?ref_=adv_li_i\"> <img alt=\"Star Wars: The Last Jedi\"class=\"loadlate\"loadlate=\"https://\n",
      "                                                  ^^^^^^^^^\n",
      "       <a href=\"/title/tt2527336/?ref_=adv_li_tt\">Star Wars: The Last Jedi</a>    <span class=\"lister-item-ye\n",
      "                                                  ^^^^^^^^^\n"
     ]
    }
   ],
   "source": [
    "pokazi_vse_pojavitve(html.replace('\\n', ''), 'Star Wars')"
   ]
  },
  {
   "cell_type": "markdown",
   "metadata": {},
   "source": [
    "V datoteki najdemo kar nekaj pojavitev, za vsako epizodo po dve: eno iz prikaza naslova in eno iz opisa slike. Vidimo, da so vsi naslovi podobne oblike: na začetku je značka `<a href=\"/title/tt0123456/?ref_=adv_li_tt\">`, pri čemer se šifra spreminja od filma do filma, na koncu je `</a>`, med njima pa je naslov filma. Če bi se zelo potrudili, bi lahko spisali program, ki iz takega niza izlušči šifro in naslov."
   ]
  },
  {
   "cell_type": "code",
   "execution_count": 7,
   "metadata": {},
   "outputs": [],
   "source": [
    "def izlusci_sifro_in_naslov(niz):\n",
    "    pred_sifro = '<a href=\"/title/tt'\n",
    "    med_sifro_in_naslovom = '/?ref_=adv_li_tt\">'\n",
    "    za_naslovom = '</a>'\n",
    "    zacetek_sifre = niz.index(pred_sifro) + len(pred_sifro)\n",
    "    konec_sifre = niz.index(med_sifro_in_naslovom)\n",
    "    zacetek_naslova = konec_sifre + len(med_sifro_in_naslovom)\n",
    "    konec_naslova = niz.index(za_naslovom)\n",
    "    sifra = int(niz[zacetek_sifre:konec_sifre])\n",
    "    naslov = niz[zacetek_naslova:konec_naslova]\n",
    "    return sifra, naslov"
   ]
  },
  {
   "cell_type": "code",
   "execution_count": 8,
   "metadata": {},
   "outputs": [
    {
     "data": {
      "text/plain": [
       "(76759, 'Star Wars: Episode IV - A New Hope')"
      ]
     },
     "execution_count": 8,
     "metadata": {},
     "output_type": "execute_result"
    }
   ],
   "source": [
    "izlusci_sifro_in_naslov('<a href=\"/title/tt0076759/?ref_=adv_li_tt\">Star Wars: Episode IV - A New Hope</a>')"
   ]
  },
  {
   "cell_type": "code",
   "execution_count": 9,
   "metadata": {},
   "outputs": [
    {
     "data": {
      "text/plain": [
       "(86190, 'Star Wars: Episode VI - Return of the Jedi')"
      ]
     },
     "execution_count": 9,
     "metadata": {},
     "output_type": "execute_result"
    }
   ],
   "source": [
    "izlusci_sifro_in_naslov('<a href=\"/title/tt0086190/?ref_=adv_li_tt\">Star Wars: Episode VI - Return of the Jedi</a>')"
   ]
  },
  {
   "cell_type": "markdown",
   "metadata": {},
   "source": [
    "Podobno bi lahko naredili še za leto izida, dolžino in ostalo, vendar mora obstajati boljši način. Mi si bomo pogledali dva. Prvi način so regularni izrazi - ti so univerzalno (z manjšimi dialekti) razširjeni zapis vzorcev nizov, ki jih lahko uporabljamo za delo s kakršnim koli besedilom. Regularne izraze podpirajo praktično vsi programski jeziki in naprednejši urejevalniki besedil. Zaradi vseobče uporabnosti se bomo regularnim izrazom bolj posvetili, niso pa vedno najboljše orodje pri roki, saj zaradi splošnosti ne izkoristijo vse strukture, ki je na voljo. Zato si bomo ogledali še drugi način, knjižnico [Beautiful Soup](https://www.crummy.com/software/BeautifulSoup/), ki je namenjena analizi HTML datotek.\n",
    "\n",
    "## Regularni izrazi v Pythonu\n",
    "\n",
    "Za delo z regularnimi izrazi (ali regeksi) v Pythonu uporabljamo knjižnico [`re`](https://docs.python.org/3/library/re.html), ki je vključen v vsako različico Pythona. V njej je najbolj osnovna funkcija `search`, ki sprejme vzorec in besedilo, v katerem iščemo, ter vrne prvo pojavitev, predstavljeno z objektom razreda `re.Match`."
   ]
  },
  {
   "cell_type": "code",
   "execution_count": 10,
   "metadata": {},
   "outputs": [
    {
     "data": {
      "text/plain": [
       "<re.Match object; span=(6, 8), match='ma'>"
      ]
     },
     "execution_count": 10,
     "metadata": {},
     "output_type": "execute_result"
    }
   ],
   "source": [
    "import re\n",
    "re.search('ma', 'Ena sama je, mama!')"
   ]
  },
  {
   "cell_type": "markdown",
   "metadata": {},
   "source": [
    "V objektu imamo dostop do začetka in konca pojavitve in njene vsebine. Uporabimo lahko tudi funkcijo `re.finditer`, ki vrne iterator po vseh pojavitvah:"
   ]
  },
  {
   "cell_type": "code",
   "execution_count": 11,
   "metadata": {},
   "outputs": [
    {
     "data": {
      "text/plain": [
       "[<re.Match object; span=(6, 8), match='ma'>,\n",
       " <re.Match object; span=(13, 15), match='ma'>,\n",
       " <re.Match object; span=(15, 17), match='ma'>]"
      ]
     },
     "execution_count": 11,
     "metadata": {},
     "output_type": "execute_result"
    }
   ],
   "source": [
    "list(re.finditer('ma', 'Ena sama je, mama!'))"
   ]
  },
  {
   "cell_type": "markdown",
   "metadata": {},
   "source": [
    "S pomočjo te funkcije lahko na veliko bolj enostaven način napišemo funkcijo `vse_pojavitve`."
   ]
  },
  {
   "cell_type": "code",
   "execution_count": 12,
   "metadata": {},
   "outputs": [],
   "source": [
    "def vse_pojavitve(besedilo: str, vzorec: str):\n",
    "    for pojavitev in re.finditer(vzorec, besedilo):\n",
    "        yield pojavitev.start(), pojavitev.end()"
   ]
  },
  {
   "cell_type": "code",
   "execution_count": 13,
   "metadata": {},
   "outputs": [
    {
     "name": "stdout",
     "output_type": "stream",
     "text": [
      "Ena sama je, mama!\n",
      "      ^^\n",
      "Ena sama je, mama!\n",
      "             ^^\n",
      "Ena sama je, mama!\n",
      "               ^^\n"
     ]
    }
   ],
   "source": [
    "pokazi_vse_pojavitve('Ena sama je, mama!', 'ma')"
   ]
  },
  {
   "cell_type": "markdown",
   "metadata": {},
   "source": [
    "Seveda pa regularni izrazi pokažejo svojo pravo moč, ko začnemo uporabljati še ostale vzorce. Vse lahko najdete v [uradni dokumentaciji](https://docs.python.org/3/library/re.html#regular-expression-syntax), mi pa si poglejmo najbolj pogoste.\n",
    "\n",
    "### Vzorci za znake\n",
    "\n",
    "Katerikoli znak predstavimo s piko:"
   ]
  },
  {
   "cell_type": "code",
   "execution_count": 14,
   "metadata": {},
   "outputs": [
    {
     "name": "stdout",
     "output_type": "stream",
     "text": [
      "Ena sama je, mama!\n",
      " ^^\n",
      "Ena sama je, mama!\n",
      "    ^^\n",
      "Ena sama je, mama!\n",
      "      ^^\n",
      "Ena sama je, mama!\n",
      "             ^^\n",
      "Ena sama je, mama!\n",
      "               ^^\n"
     ]
    }
   ],
   "source": [
    "pokazi_vse_pojavitve('Ena sama je, mama!', '.a')"
   ]
  },
  {
   "cell_type": "code",
   "execution_count": 15,
   "metadata": {},
   "outputs": [
    {
     "name": "stdout",
     "output_type": "stream",
     "text": [
      "Ena sama je, mama!\n",
      "     ^^\n",
      "Ena sama je, mama!\n",
      "            ^^\n",
      "Ena sama je, mama!\n",
      "              ^^\n"
     ]
    }
   ],
   "source": [
    "pokazi_vse_pojavitve('Ena sama je, mama!', '.m')"
   ]
  },
  {
   "cell_type": "markdown",
   "metadata": {},
   "source": [
    "Piko samo predstavimo z vzorcem `\\.`. Pri tem je potrebno upoštevati, da je vzorec sestavljen iz dveh znakov: poševnice in pike, zato je treba v Pythonu za poševnico uporabiti ubežni znak:"
   ]
  },
  {
   "cell_type": "code",
   "execution_count": 16,
   "metadata": {},
   "outputs": [
    {
     "name": "stdout",
     "output_type": "stream",
     "text": [
      "akad. prof. dr. Jana Obvlada\n",
      "    ^\n",
      "akad. prof. dr. Jana Obvlada\n",
      "          ^\n",
      "akad. prof. dr. Jana Obvlada\n",
      "              ^\n"
     ]
    }
   ],
   "source": [
    "pokazi_vse_pojavitve('akad. prof. dr. Jana Obvlada', '\\\\.')"
   ]
  },
  {
   "cell_type": "markdown",
   "metadata": {},
   "source": [
    "Ker veliko vzorcev uporablja poševnice, dvojne poševnice pa je nadležno pisati, bomo raje uporabili _surove_ nize, v katerih Python ne uporablja ubežnih znakov in `\\` pomeni preprosto `\\`. Dobimo tako, da pred narekovaj napišemo `r`."
   ]
  },
  {
   "cell_type": "code",
   "execution_count": 17,
   "metadata": {},
   "outputs": [
    {
     "name": "stdout",
     "output_type": "stream",
     "text": [
      "akad. prof. dr. Jana Obvlada\n",
      "    ^\n",
      "akad. prof. dr. Jana Obvlada\n",
      "          ^\n",
      "akad. prof. dr. Jana Obvlada\n",
      "              ^\n"
     ]
    }
   ],
   "source": [
    "pokazi_vse_pojavitve('akad. prof. dr. Jana Obvlada', r'\\.')"
   ]
  },
  {
   "cell_type": "markdown",
   "metadata": {},
   "source": [
    "Običajno surove nize uporabljamo za zapis regularnih izrazov (tudi Visual Studio Code v surovih nizih obarva regularne izraze), vendar `r` ne pomeni _regex_ temveč _raw_.\n",
    "\n",
    "Vse števke predstavimo z vzorcem `\\d`, vse črke z vzorcem `\\w`, vse bele znake (presledke, tabulatorje, znake za novo vrstico) pa z vzorcem `\\s`:"
   ]
  },
  {
   "cell_type": "code",
   "execution_count": 18,
   "metadata": {},
   "outputs": [
    {
     "name": "stdout",
     "output_type": "stream",
     "text": [
      "Potrebujem 500g moke.\n",
      "           ^^^\n"
     ]
    }
   ],
   "source": [
    "pokazi_vse_pojavitve('Potrebujem 500g moke.', r'\\d+')"
   ]
  },
  {
   "cell_type": "code",
   "execution_count": 19,
   "metadata": {},
   "outputs": [
    {
     "name": "stdout",
     "output_type": "stream",
     "text": [
      "Potrebujem 500g moke.\n",
      "^^^^^^^^^^\n",
      "Potrebujem 500g moke.\n",
      "           ^^^^\n",
      "Potrebujem 500g moke.\n",
      "                ^^^^\n"
     ]
    }
   ],
   "source": [
    "pokazi_vse_pojavitve('Potrebujem 500g moke.', r'\\w+')"
   ]
  },
  {
   "cell_type": "code",
   "execution_count": 20,
   "metadata": {},
   "outputs": [
    {
     "name": "stdout",
     "output_type": "stream",
     "text": [
      "Potrebujem 500g moke.\n",
      "          ^\n",
      "Potrebujem 500g moke.\n",
      "               ^\n"
     ]
    }
   ],
   "source": [
    "pokazi_vse_pojavitve('Potrebujem 500g moke.', r'\\s+')"
   ]
  },
  {
   "cell_type": "markdown",
   "metadata": {},
   "source": [
    "Če uporabimo veliko tiskano črko, dobimo komplement. Tako vzorcu `\\D` ustrezajo vsi znaki razen števk, vzorcu `\\W` vsi znaki razen črk, vzorcu `\\S` pa vsi znaki razen belih."
   ]
  },
  {
   "cell_type": "code",
   "execution_count": 21,
   "metadata": {},
   "outputs": [
    {
     "name": "stdout",
     "output_type": "stream",
     "text": [
      "Potrebujem 500g moke.\n",
      "^^^^^^^^^^^\n",
      "Potrebujem 500g moke.\n",
      "              ^^^^^^^\n"
     ]
    }
   ],
   "source": [
    "pokazi_vse_pojavitve('Potrebujem 500g moke.', r'\\D+')"
   ]
  },
  {
   "cell_type": "code",
   "execution_count": 22,
   "metadata": {},
   "outputs": [
    {
     "name": "stdout",
     "output_type": "stream",
     "text": [
      "Potrebujem 500g moke.\n",
      "          ^\n",
      "Potrebujem 500g moke.\n",
      "               ^\n",
      "Potrebujem 500g moke.\n",
      "                    ^\n"
     ]
    }
   ],
   "source": [
    "pokazi_vse_pojavitve('Potrebujem 500g moke.', r'\\W+')"
   ]
  },
  {
   "cell_type": "code",
   "execution_count": 23,
   "metadata": {},
   "outputs": [
    {
     "name": "stdout",
     "output_type": "stream",
     "text": [
      "Potrebujem 500g moke.\n",
      "^^^^^^^^^^\n",
      "Potrebujem 500g moke.\n",
      "           ^^^^\n",
      "Potrebujem 500g moke.\n",
      "                ^^^^^\n"
     ]
    }
   ],
   "source": [
    "pokazi_vse_pojavitve('Potrebujem 500g moke.', r'\\S+')"
   ]
  },
  {
   "cell_type": "markdown",
   "metadata": {},
   "source": [
    "Če se želimo omejiti na posamezne znake ali posamezen razpon zaporednih znakov, jih naštejemo med oglatimi oklepaji:"
   ]
  },
  {
   "cell_type": "code",
   "execution_count": 24,
   "metadata": {},
   "outputs": [
    {
     "name": "stdout",
     "output_type": "stream",
     "text": [
      "ata, mama, teta, stric\n",
      " ^^^\n",
      "ata, mama, teta, stric\n",
      "     ^^^\n",
      "ata, mama, teta, stric\n",
      "           ^^^\n",
      "ata, mama, teta, stric\n",
      "                   ^^^\n"
     ]
    }
   ],
   "source": [
    "pokazi_vse_pojavitve('ata, mama, teta, stric', r'.[aeiou].')"
   ]
  },
  {
   "cell_type": "code",
   "execution_count": 25,
   "metadata": {},
   "outputs": [
    {
     "name": "stdout",
     "output_type": "stream",
     "text": [
      "ata, mama, teta, stric\n",
      "     ^^^\n",
      "ata, mama, teta, stric\n",
      "           ^^^\n",
      "ata, mama, teta, stric\n",
      "                   ^^^\n"
     ]
    }
   ],
   "source": [
    "pokazi_vse_pojavitve('ata, mama, teta, stric', r'.[aeiou][a-z]')"
   ]
  },
  {
   "cell_type": "markdown",
   "metadata": {},
   "source": [
    "Če kot prvi znak v oglatih oklepajih damo `^`, dobimo komplement:"
   ]
  },
  {
   "cell_type": "code",
   "execution_count": 26,
   "metadata": {},
   "outputs": [
    {
     "name": "stdout",
     "output_type": "stream",
     "text": [
      "ata, mama, teta, stric\n",
      "^^^\n",
      "ata, mama, teta, stric\n",
      "   ^^^\n",
      "ata, mama, teta, stric\n",
      "      ^^^\n",
      "ata, mama, teta, stric\n",
      "         ^^^\n",
      "ata, mama, teta, stric\n",
      "            ^^^\n",
      "ata, mama, teta, stric\n",
      "               ^^^\n",
      "ata, mama, teta, stric\n",
      "                  ^^^\n"
     ]
    }
   ],
   "source": [
    "pokazi_vse_pojavitve('ata, mama, teta, stric', r'.[^aeiou].')"
   ]
  },
  {
   "cell_type": "markdown",
   "metadata": {},
   "source": [
    "### Kvantifikatorji\n",
    "\n",
    "Z `*` označimo poljubno mnogo ponovitev danega vzorca:"
   ]
  },
  {
   "cell_type": "code",
   "execution_count": 27,
   "metadata": {},
   "outputs": [
    {
     "name": "stdout",
     "output_type": "stream",
     "text": [
      "Oddal sem davčno napoved\n",
      " ^^^\n",
      "Oddal sem davčno napoved\n",
      "          ^^\n",
      "Oddal sem davčno napoved\n",
      "                  ^\n"
     ]
    }
   ],
   "source": [
    "pokazi_vse_pojavitve('Oddal sem davčno napoved', r'd*a')"
   ]
  },
  {
   "cell_type": "markdown",
   "metadata": {},
   "source": [
    "Če želimo, da se vzorec pojavi vsaj enkrat, uporabimo `+`:"
   ]
  },
  {
   "cell_type": "code",
   "execution_count": 28,
   "metadata": {},
   "outputs": [
    {
     "name": "stdout",
     "output_type": "stream",
     "text": [
      "Oddal sem davčno napoved\n",
      " ^^^\n",
      "Oddal sem davčno napoved\n",
      "          ^^\n"
     ]
    }
   ],
   "source": [
    "pokazi_vse_pojavitve('Oddal sem davčno napoved', r'd+a')"
   ]
  },
  {
   "cell_type": "markdown",
   "metadata": {},
   "source": [
    "Kvantifikatorja `*` in `+` sta požrešna, kar pomeni, da poskusita zajeti kolikor znakov lahko:"
   ]
  },
  {
   "cell_type": "code",
   "execution_count": 29,
   "metadata": {},
   "outputs": [
    {
     "name": "stdout",
     "output_type": "stream",
     "text": [
      "Oddal sem davčno napoved\n",
      " ^^^^^^^^^^^^^^^^^^\n"
     ]
    }
   ],
   "source": [
    "pokazi_vse_pojavitve('Oddal sem davčno napoved', r'd.*a')"
   ]
  },
  {
   "cell_type": "code",
   "execution_count": 30,
   "metadata": {},
   "outputs": [
    {
     "name": "stdout",
     "output_type": "stream",
     "text": [
      "Oddal sem davčno napoved\n",
      " ^^^^^^^^^^^^^^^^^^\n"
     ]
    }
   ],
   "source": [
    "pokazi_vse_pojavitve('Oddal sem davčno napoved', r'd.+a')"
   ]
  },
  {
   "cell_type": "markdown",
   "metadata": {},
   "source": [
    "Če želimo najti najkrajše možne pojavitve, moramo na koncu dodati še `?`:"
   ]
  },
  {
   "cell_type": "code",
   "execution_count": 31,
   "metadata": {},
   "outputs": [
    {
     "name": "stdout",
     "output_type": "stream",
     "text": [
      "Oddal sem davčno napoved\n",
      " ^^^\n",
      "Oddal sem davčno napoved\n",
      "          ^^\n"
     ]
    }
   ],
   "source": [
    "pokazi_vse_pojavitve('Oddal sem davčno napoved', r'd.*?a')"
   ]
  },
  {
   "cell_type": "code",
   "execution_count": 32,
   "metadata": {},
   "outputs": [
    {
     "name": "stdout",
     "output_type": "stream",
     "text": [
      "Oddal sem davčno napoved\n",
      " ^^^\n",
      "Oddal sem davčno napoved\n",
      "          ^^^^^^^^^\n"
     ]
    }
   ],
   "source": [
    "pokazi_vse_pojavitve('Oddal sem davčno napoved', r'd.+?a')"
   ]
  },
  {
   "cell_type": "markdown",
   "metadata": {},
   "source": [
    "Če uporabimo samo `?`, to pomeni morebitno pojavitev vzorca:"
   ]
  },
  {
   "cell_type": "code",
   "execution_count": 33,
   "metadata": {},
   "outputs": [
    {
     "name": "stdout",
     "output_type": "stream",
     "text": [
      "Oddal sem davčno napoved\n",
      " ^\n",
      "Oddal sem davčno napoved\n",
      "  ^^\n",
      "Oddal sem davčno napoved\n",
      "          ^^\n",
      "Oddal sem davčno napoved\n",
      "                       ^\n"
     ]
    }
   ],
   "source": [
    "pokazi_vse_pojavitve('Oddal sem davčno napoved', r'da?')"
   ]
  },
  {
   "cell_type": "markdown",
   "metadata": {},
   "source": [
    "Če želimo dobiti znake `*`, `+` in `?` uporabimo `\\*`, `\\+` in `\\?`.\n",
    "\n",
    "Kvantifikatorji `*`, `+` in `?` so posebni primeri kvantifikatorja `{m,n}`, ki predstavlja katerokoli število ponovitev med `m` in `n`, pri čemer lahko kakšno izmed meja tudi izpustimo. Tako je kvantifikator `*` okrajšava za `{0,}`, kvantifikator `+` okrajšava za `{1,}`, kvantifikator `?` pa okrajšava za `{0,1}`."
   ]
  },
  {
   "cell_type": "code",
   "execution_count": 34,
   "metadata": {},
   "outputs": [
    {
     "name": "stdout",
     "output_type": "stream",
     "text": [
      "\"Brrrr, brrrrrr, brrr, brrrrrrr,\" je drgetal od mraza.\n",
      " ^^^^^\n",
      "\"Brrrr, brrrrrr, brrr, brrrrrrr,\" je drgetal od mraza.\n",
      "        ^^^^^^\n",
      "\"Brrrr, brrrrrr, brrr, brrrrrrr,\" je drgetal od mraza.\n",
      "                       ^^^^^^\n"
     ]
    }
   ],
   "source": [
    "pokazi_vse_pojavitve('\"Brrrr, brrrrrr, brrr, brrrrrrr,\" je drgetal od mraza.', r'[Bb]r{4,5}')"
   ]
  },
  {
   "cell_type": "code",
   "execution_count": 35,
   "metadata": {},
   "outputs": [
    {
     "name": "stdout",
     "output_type": "stream",
     "text": [
      "\"Brrr, brrrrrr, brrr, brrrrrrr,\" je drgetal od mraza.\n",
      "       ^^^^^^^\n",
      "\"Brrr, brrrrrr, brrr, brrrrrrr,\" je drgetal od mraza.\n",
      "                      ^^^^^^^^\n"
     ]
    }
   ],
   "source": [
    "pokazi_vse_pojavitve('\"Brrr, brrrrrr, brrr, brrrrrrr,\" je drgetal od mraza.', r'[Bb]r{4,}')"
   ]
  },
  {
   "cell_type": "code",
   "execution_count": 36,
   "metadata": {},
   "outputs": [
    {
     "name": "stdout",
     "output_type": "stream",
     "text": [
      "\"Brrr, brrrrrr, brrr, brrrrrrr,\" je drgetal od mraza.\n",
      " ^^^^\n",
      "\"Brrr, brrrrrr, brrr, brrrrrrr,\" je drgetal od mraza.\n",
      "       ^^^^^^\n",
      "\"Brrr, brrrrrr, brrr, brrrrrrr,\" je drgetal od mraza.\n",
      "                ^^^^\n",
      "\"Brrr, brrrrrr, brrr, brrrrrrr,\" je drgetal od mraza.\n",
      "                      ^^^^^^\n"
     ]
    }
   ],
   "source": [
    "pokazi_vse_pojavitve('\"Brrr, brrrrrr, brrr, brrrrrrr,\" je drgetal od mraza.', r'[Bb]r{,5}')"
   ]
  },
  {
   "cell_type": "markdown",
   "metadata": {},
   "source": [
    "### Skupine\n",
    "\n",
    "Vzorce lahko z oklepaji združujemo v skupine:"
   ]
  },
  {
   "cell_type": "code",
   "execution_count": 37,
   "metadata": {},
   "outputs": [
    {
     "name": "stdout",
     "output_type": "stream",
     "text": [
      "tralala hopsasa\n",
      " ^^^^^^\n",
      "tralala hopsasa\n",
      "        ^^\n",
      "tralala hopsasa\n",
      "           ^^^^\n"
     ]
    }
   ],
   "source": [
    "pokazi_vse_pojavitve('tralala hopsasa', r'([^aeiou][aeiou])+')"
   ]
  },
  {
   "cell_type": "markdown",
   "metadata": {},
   "source": [
    "V pojavitvi lahko do posameznih skupin dostopamo prek metode `group`. Celotna pojavitev ima indeks `0`, nato pa so oštevilčene glede na uklepaje:"
   ]
  },
  {
   "cell_type": "code",
   "execution_count": 38,
   "metadata": {},
   "outputs": [
    {
     "name": "stdout",
     "output_type": "stream",
     "text": [
      "enota: g, vrednost: 500\n",
      "enota: ml, vrednost: 250\n"
     ]
    }
   ],
   "source": [
    "recept = 'Potrebujem 500 g moke in 250 ml vode.'\n",
    "vzorec = r'(\\d+) (\\w+)'\n",
    "for pojavitev in re.finditer(vzorec, recept):\n",
    "    print(f'enota: {pojavitev.group(2)}, vrednost: {pojavitev.group(1)}')"
   ]
  },
  {
   "cell_type": "markdown",
   "metadata": {},
   "source": [
    "Dostikrat je koristno, da skupine poimenujemo, kar storimo tako, da skupino pišemo kot `(?P<ime_skupine>...)`. Do vseh skupin potem dostopamo prek metode `groupdict`:"
   ]
  },
  {
   "cell_type": "code",
   "execution_count": 39,
   "metadata": {},
   "outputs": [
    {
     "data": {
      "text/plain": [
       "[{'kolicina': '500', 'enota': 'g'}, {'kolicina': '250', 'enota': 'ml'}]"
      ]
     },
     "execution_count": 39,
     "metadata": {},
     "output_type": "execute_result"
    }
   ],
   "source": [
    "vzorec = r'(?P<kolicina>\\d+) (?P<enota>\\w+)'\n",
    "[pojavitev.groupdict() for pojavitev in re.finditer(vzorec, recept)]"
   ]
  },
  {
   "cell_type": "markdown",
   "metadata": {},
   "source": [
    "Zgornjo funkcijo bi tako lepše napisali kot:"
   ]
  },
  {
   "cell_type": "code",
   "execution_count": 40,
   "metadata": {},
   "outputs": [],
   "source": [
    "def izlusci_sifro_in_naslov(niz):\n",
    "    vzorec = r'<a href=\"/title/tt(?P<sifra>\\d+)/\\?ref_=adv_li_tt\">(?P<naslov>.*?)</a>'\n",
    "    pojavitev = re.search(vzorec, niz)\n",
    "    sifra = int(pojavitev.group('sifra'))\n",
    "    naslov = pojavitev.group('naslov')\n",
    "    return sifra, naslov"
   ]
  },
  {
   "cell_type": "code",
   "execution_count": 41,
   "metadata": {},
   "outputs": [
    {
     "data": {
      "text/plain": [
       "(76759, 'Star Wars: Episode IV - A New Hope')"
      ]
     },
     "execution_count": 41,
     "metadata": {},
     "output_type": "execute_result"
    }
   ],
   "source": [
    "izlusci_sifro_in_naslov('<a href=\"/title/tt0076759/?ref_=adv_li_tt\">Star Wars: Episode IV - A New Hope</a>')"
   ]
  },
  {
   "cell_type": "code",
   "execution_count": 42,
   "metadata": {},
   "outputs": [
    {
     "data": {
      "text/plain": [
       "(86190, 'Star Wars: Episode VI - Return of the Jedi')"
      ]
     },
     "execution_count": 42,
     "metadata": {},
     "output_type": "execute_result"
    }
   ],
   "source": [
    "izlusci_sifro_in_naslov('<a href=\"/title/tt0086190/?ref_=adv_li_tt\">Star Wars: Episode VI - Return of the Jedi</a>')"
   ]
  },
  {
   "cell_type": "markdown",
   "metadata": {},
   "source": [
    "## Metode za delo z regularnimi izrazi\n",
    "\n",
    "V knjižnici `re` je na voljo več funkcij za delo z regularnimi izrazi:\n",
    "\n",
    "- `search`, ki vrne prvo pojavitev danega vzorca v nizu oziroma `None`, če je ni:\n",
    "\n",
    "  ```{code-cell}\n",
    "  re.search(r'\\d', '3, 4, zdaj!')\n",
    "  ```\n",
    "\n",
    "  ```{code-cell}\n",
    "  re.search(r'\\d', 'tri, štiri, zdaj!')\n",
    "  ```\n",
    "\n",
    "- `match`, ki vrne pojavitev, če ta ustreza začetku niza oziroma `None`, če ne:\n",
    "\n",
    "  ```{code-cell}\n",
    "  re.match(r'\\d+', '500 g moke')\n",
    "  ```\n",
    "\n",
    "  ```{code-cell}\n",
    "  re.match(r'\\d+', 'Potrebujem 500 g moke.')\n",
    "  ```\n",
    "\n",
    "- `fullmatch`, ki vrne pojavitev, če ta ustreza celotnemu nizu oziroma `None`, če ne:\n",
    "\n",
    "  ```{code-cell}\n",
    "  re.fullmatch(r'\\w+', 'Proseminar')\n",
    "  ```\n",
    "\n",
    "  ```{code-cell}\n",
    "  re.fullmatch(r'\\w+', 'Uvod v programiranje')\n",
    "  ```\n",
    "\n",
    "- `finditer`, ki vrne iterator čez vse pojavitve vzorca v nizu:\n",
    "\n",
    "  ```{code-cell}\n",
    "  list(re.finditer(r'\\d', '3, 4, zdaj!'))\n",
    "  ```\n",
    "\n",
    "- `findall`, ki vrne seznam vsebin vseh pojavitev vzorca v nizu:\n",
    "\n",
    "  ```{code-cell}\n",
    "  re.findall(r'\\d', '3, 4, zdaj!')\n",
    "  ```\n",
    "\n",
    "- `findall`, ki vrne seznam vsebin vseh pojavitev vzorca v nizu:\n",
    "\n",
    "  ```{code-cell}\n",
    "  re.findall(r'\\d', '3, 4, zdaj!')\n",
    "  ```\n",
    "\n",
    "- `split`, ki dani niz razdeli po pojavitvah:\n",
    "\n",
    "  ```{code-cell}\n",
    "  re.split(r'[aeiou]', 'otorinolaringolog')\n",
    "  ```\n",
    "\n",
    "- `sub`, ki v danem nizu pojavitve zamenja z drugimi nizi, v katerih lahko do posameznih skupin dostopamo prek `\\1`, `\\2`, ...\n",
    "\n",
    "  ```{code-cell}\n",
    "  def daj_en_presledek_za_vsako_stevilko(niz):\n",
    "      stevilka_in_morebitni_presledki = r'(\\d+)\\s*'\n",
    "      return re.sub(stevilka_in_morebitni_presledki, r'\\1 ', niz)\n",
    "  ```\n",
    "\n",
    "  ```{code-cell}\n",
    "  daj_en_presledek_za_vsako_stevilko('500g moke in 250    ml vode')\n",
    "  ```\n",
    "\n",
    "Vse zgoraj omenjene funkcije poleg običajnih argumentov sprejmejo še dodatne parametre, ki jih imenujemo zastavice in malenkostno spreminjajo iskanje. Na primer, z `re.IGNORECASE` pri iskanju ne razlikujemo med malimi in velikimi črkami:"
   ]
  },
  {
   "cell_type": "code",
   "execution_count": 43,
   "metadata": {},
   "outputs": [
    {
     "data": {
      "text/plain": [
       "['a', 'a']"
      ]
     },
     "execution_count": 43,
     "metadata": {},
     "output_type": "execute_result"
    }
   ],
   "source": [
    "re.findall(r'a', 'Abraham')"
   ]
  },
  {
   "cell_type": "code",
   "execution_count": 44,
   "metadata": {},
   "outputs": [
    {
     "data": {
      "text/plain": [
       "['A', 'a', 'a']"
      ]
     },
     "execution_count": 44,
     "metadata": {},
     "output_type": "execute_result"
    }
   ],
   "source": [
    "re.findall(r'a', 'Abraham', flags=re.IGNORECASE)"
   ]
  },
  {
   "cell_type": "markdown",
   "metadata": {},
   "source": [
    "Druga pogosto uporabljana zastavica je `re.DOTALL`. Vzorec `.` običajno pomeni vse znake razen znaka za novo vrstico. Če uporabimo `re.DOTALL`, pa vključuje tudi tega:"
   ]
  },
  {
   "cell_type": "code",
   "execution_count": 45,
   "metadata": {},
   "outputs": [
    {
     "data": {
      "text/plain": [
       "['XyzzY', 'X    Y']"
      ]
     },
     "execution_count": 45,
     "metadata": {},
     "output_type": "execute_result"
    }
   ],
   "source": [
    "re.findall(r'X.*?Y', 'XyzzY X    Y X\\nY')"
   ]
  },
  {
   "cell_type": "code",
   "execution_count": 46,
   "metadata": {},
   "outputs": [
    {
     "data": {
      "text/plain": [
       "['XyzzY', 'X    Y', 'X\\nY']"
      ]
     },
     "execution_count": 46,
     "metadata": {},
     "output_type": "execute_result"
    }
   ],
   "source": [
    "re.findall(r'X.*?Y', 'XyzzY X    Y X\\nY', flags=re.DOTALL)"
   ]
  },
  {
   "cell_type": "markdown",
   "metadata": {},
   "source": [
    "Če želimo uporabiti več zastavic, jih v eno sestavimo z `|`:"
   ]
  },
  {
   "cell_type": "code",
   "execution_count": 47,
   "metadata": {},
   "outputs": [
    {
     "data": {
      "text/plain": [
       "['Xy', 'x    y', 'X\\nY']"
      ]
     },
     "execution_count": 47,
     "metadata": {},
     "output_type": "execute_result"
    }
   ],
   "source": [
    "re.findall(r'X.*?Y', 'XyzzY x    y X\\nY', flags=(re.DOTALL|re.IGNORECASE))"
   ]
  },
  {
   "cell_type": "markdown",
   "metadata": {},
   "source": [
    "Vse zgoraj omenjene funkcije sprejmejo niz z vzorcem, ki ga iščemo. Še bolj Pythonovsko in tudi bolj učinkovito, če vzorec uporabljamo večkrat, pa je, da vzorec s funkcijo `compile` pretvorimo v objekt `re.Pattern`. Na takem objektu lahko potem kličemo metode z istimi imeni kot zgoraj omenjene funkcije.\n",
    "\n",
    "## Knjižnica Beautiful Soup"
   ]
  }
 ],
 "metadata": {
  "jupytext": {
   "cell_metadata_filter": "-all",
   "formats": "md:myst",
   "text_representation": {
    "extension": ".md",
    "format_name": "myst",
    "format_version": "0.8",
    "jupytext_version": "1.5.0"
   }
  },
  "kernelspec": {
   "display_name": "Python 3",
   "language": "python",
   "name": "python3"
  },
  "language_info": {
   "codemirror_mode": {
    "name": "ipython",
    "version": 3
   },
   "file_extension": ".py",
   "mimetype": "text/x-python",
   "name": "python",
   "nbconvert_exporter": "python",
   "pygments_lexer": "ipython3",
   "version": "3.7.9"
  },
  "source_map": [
   14,
   24,
   29,
   33,
   45,
   47,
   51,
   60,
   62,
   66,
   68,
   72,
   86,
   90,
   92,
   100,
   103,
   107,
   109,
   113,
   119,
   121,
   129,
   133,
   135,
   139,
   141,
   145,
   147,
   153,
   157,
   161,
   163,
   167,
   171,
   175,
   177,
   181,
   185,
   187,
   191,
   193,
   199,
   201,
   205,
   207,
   211,
   215,
   217,
   221,
   225,
   227,
   231,
   233,
   239,
   243,
   247,
   249,
   255,
   257,
   261,
   266,
   270,
   273,
   276,
   285,
   289,
   291,
   365,
   369,
   371,
   376,
   380,
   382,
   386,
   388
  ]
 },
 "nbformat": 4,
 "nbformat_minor": 4
}