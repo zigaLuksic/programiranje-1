{
 "cells": [
  {
   "cell_type": "markdown",
   "metadata": {},
   "source": [
    "# Regularni izrazi\n",
    "\n",
    "Običajno moramo podatke, ki jih želimo analizirati, najprej prečistiti. Na primer, svetovni splet je bogat vir podatkov, vendar so ti dostikrat dostopni le v formatu HTML, ki poleg koristne vsebine vsebuje še marsikaj. Recimo, da nas zanimajo podatki o [250 filmih z največ glasovi na strani IMDB](https://www.imdb.com/search/title/?sort=num_votes,desc&title_type=feature&count=250). Vidimo, da stran ponuja veliko koristnih podatkov: naslov, leto izida, dolžno, žanre, ocene, igralce, opise, ...\n",
    "\n",
    "![250 najbolj znanih filmov](datoteke/250-najbolj-znanih-filmov.png)\n",
    "\n",
    "Če pa v brskalniku shranimo izvorno kodo in HTML datoteko odpremo, pa je podatke težko najti."
   ]
  },
  {
   "cell_type": "code",
   "execution_count": 1,
   "metadata": {},
   "outputs": [
    {
     "name": "stdout",
     "output_type": "stream",
     "text": [
      "\n",
      "\n",
      "\n",
      "<!DOCTYPE html>\n",
      "<html\n",
      "    xmlns:og=\"http://ogp.me/ns#\"\n",
      "    xmlns:fb=\"http://www.facebook.com/2008/fbml\">\n",
      "    <head>\n",
      "        \n",
      "<script type='text/javascript'>var ue_t0=ue_t0||+new Date();</script>\n",
      "<script type='text/javascript'>\n",
      "window.ue_ihb = (window.ue_ihb || window.ueinit || 0) + 1;\n",
      "if (window.ue_ihb === 1) {\n",
      "\n",
      "var ue_csm = window,\n",
      "    ue_hob = +new Date();\n",
      "(function(d){var e=d.ue=d.ue||{},f=Date.now||function(){return+new Date};e.d=function(b){return f()-(b?0:d.ue_t0)};e.stub=function(b,a){if(!b[a]){var c=[];b[a]=function(){c.push([c.slice.call(arguments),e.d(),d.ue_id])};b[a].replay=function(b){for(var a;a=c.shift();)b(a[0],a[1],a[2])};b[a].isStub=1}};e.exec=function(b,a){return function(){try{return b.apply(this,arguments)}catch(c){ueLogError(c,{attribution:a||\"undefined\",logLevel:\"WARN\"})}}}})(ue_csm);\n",
      "\n",
      "\n",
      "    var ue_err_chan = 'jserr';\n",
      "(function(d,e){function h(f,b){if(!(a.ec>a.mxe)&&f){a.ter.push(f);b=b||{};var c=f.logLevel||b.logLevel;c&&c!==k&&c!==m&&c!==n&&c!==p||a.ec++;c&&c\n"
     ]
    }
   ],
   "source": [
    "with open('../01-regularni-izrazi/predavanja/250-najbolj-znanih-filmov.html') as f:\n",
    "    html = f.read()\n",
    "\n",
    "print(html[:1000])"
   ]
  },
  {
   "cell_type": "markdown",
   "metadata": {},
   "source": [
    "Pomagajmo si s pomožno funkcijo, ki poišče začetke in konce vseh neprekrivajočih se pojavitev danega niza v besedilu."
   ]
  },
  {
   "cell_type": "code",
   "execution_count": 2,
   "metadata": {},
   "outputs": [],
   "source": [
    "def vse_pojavitve(besedilo: str, iskani_niz: str):\n",
    "    konec_pojavitve = 0\n",
    "    while True:\n",
    "        try:\n",
    "            zacetek_pojavitve = besedilo.index(iskani_niz, konec_pojavitve)\n",
    "            konec_pojavitve = min(zacetek_pojavitve + len(iskani_niz), len(besedilo))\n",
    "            yield zacetek_pojavitve, konec_pojavitve\n",
    "        except ValueError:\n",
    "            break"
   ]
  },
  {
   "cell_type": "code",
   "execution_count": 3,
   "metadata": {},
   "outputs": [
    {
     "data": {
      "text/plain": [
       "[(6, 8), (13, 15), (15, 17)]"
      ]
     },
     "execution_count": 3,
     "metadata": {},
     "output_type": "execute_result"
    }
   ],
   "source": [
    "list(vse_pojavitve('Ena sama je, mama!', 'ma'))"
   ]
  },
  {
   "cell_type": "markdown",
   "metadata": {},
   "source": [
    "Če želimo, lahko vsako pojavitev prikažemo v njenem kontekstu:"
   ]
  },
  {
   "cell_type": "code",
   "execution_count": 4,
   "metadata": {},
   "outputs": [],
   "source": [
    "def pokazi_vse_pojavitve(besedilo: str, iskani_niz: str, velikost_konteksta=50):\n",
    "    for zacetek, konec in vse_pojavitve(besedilo, iskani_niz):\n",
    "        zacetek_konteksta = max(zacetek - velikost_konteksta, 0)\n",
    "        konec_konteksta = min(konec + velikost_konteksta, len(besedilo))\n",
    "        print(besedilo[zacetek_konteksta:konec_konteksta])\n",
    "        print((zacetek - zacetek_konteksta) * ' ' + (konec - zacetek) * '^')"
   ]
  },
  {
   "cell_type": "code",
   "execution_count": 5,
   "metadata": {},
   "outputs": [
    {
     "name": "stdout",
     "output_type": "stream",
     "text": [
      "Ena sama je, mama!\n",
      "      ^^\n",
      "Ena sama je, mama!\n",
      "             ^^\n",
      "Ena sama je, mama!\n",
      "               ^^\n"
     ]
    }
   ],
   "source": [
    "pokazi_vse_pojavitve('Ena sama je, mama!', 'ma')"
   ]
  },
  {
   "cell_type": "markdown",
   "metadata": {},
   "source": [
    "Recimo, da nas zanimajo podatki o Vojni zvezd:"
   ]
  },
  {
   "cell_type": "code",
   "execution_count": 6,
   "metadata": {},
   "outputs": [
    {
     "name": "stdout",
     "output_type": "stream",
     "text": [
      "href=\"/title/tt0076759/?ref_=adv_li_i\"> <img alt=\"Star Wars: Episode IV - A New Hope\"class=\"loadlate\"loadlate\n",
      "                                                  ^^^^^^^^^\n",
      "       <a href=\"/title/tt0076759/?ref_=adv_li_tt\">Star Wars: Episode IV - A New Hope</a>    <span class=\"list\n",
      "                                                  ^^^^^^^^^\n",
      "href=\"/title/tt0080684/?ref_=adv_li_i\"> <img alt=\"Star Wars: Episode V - The Empire Strikes Back\"class=\"loadl\n",
      "                                                  ^^^^^^^^^\n",
      "       <a href=\"/title/tt0080684/?ref_=adv_li_tt\">Star Wars: Episode V - The Empire Strikes Back</a>    <span\n",
      "                                                  ^^^^^^^^^\n",
      "href=\"/title/tt0086190/?ref_=adv_li_i\"> <img alt=\"Star Wars: Episode VI - Return of the Jedi\"class=\"loadlate\"\n",
      "                                                  ^^^^^^^^^\n",
      "       <a href=\"/title/tt0086190/?ref_=adv_li_tt\">Star Wars: Episode VI - Return of the Jedi</a>    <span cla\n",
      "                                                  ^^^^^^^^^\n",
      "href=\"/title/tt2488496/?ref_=adv_li_i\"> <img alt=\"Star Wars: Episode VII - The Force Awakens\"class=\"loadlate\"\n",
      "                                                  ^^^^^^^^^\n",
      "       <a href=\"/title/tt2488496/?ref_=adv_li_tt\">Star Wars: Episode VII - The Force Awakens</a>    <span cla\n",
      "                                                  ^^^^^^^^^\n",
      "href=\"/title/tt0120915/?ref_=adv_li_i\"> <img alt=\"Star Wars: Episode I - The Phantom Menace\"class=\"loadlate\"l\n",
      "                                                  ^^^^^^^^^\n",
      "       <a href=\"/title/tt0120915/?ref_=adv_li_tt\">Star Wars: Episode I - The Phantom Menace</a>    <span clas\n",
      "                                                  ^^^^^^^^^\n",
      "href=\"/title/tt0121766/?ref_=adv_li_i\"> <img alt=\"Star Wars: Episode III - Revenge of the Sith\"class=\"loadlat\n",
      "                                                  ^^^^^^^^^\n",
      "       <a href=\"/title/tt0121766/?ref_=adv_li_tt\">Star Wars: Episode III - Revenge of the Sith</a>    <span c\n",
      "                                                  ^^^^^^^^^\n",
      "href=\"/title/tt0121765/?ref_=adv_li_i\"> <img alt=\"Star Wars: Episode II - Attack of the Clones\"class=\"loadlat\n",
      "                                                  ^^^^^^^^^\n",
      "       <a href=\"/title/tt0121765/?ref_=adv_li_tt\">Star Wars: Episode II - Attack of the Clones</a>    <span c\n",
      "                                                  ^^^^^^^^^\n",
      "href=\"/title/tt2527336/?ref_=adv_li_i\"> <img alt=\"Star Wars: Episode VIII - The Last Jedi\"class=\"loadlate\"loa\n",
      "                                                  ^^^^^^^^^\n",
      "       <a href=\"/title/tt2527336/?ref_=adv_li_tt\">Star Wars: Episode VIII - The Last Jedi</a>    <span class=\n",
      "                                                  ^^^^^^^^^\n",
      "tt3748528/?ref_=adv_li_i\"> <img alt=\"Rogue One: A Star Wars Story\"class=\"loadlate\"loadlate=\"https://m.media-a\n",
      "                                                  ^^^^^^^^^\n",
      "f=\"/title/tt3748528/?ref_=adv_li_tt\">Rogue One: A Star Wars Story</a>    <span class=\"lister-item-year text-m\n",
      "                                                  ^^^^^^^^^\n"
     ]
    }
   ],
   "source": [
    "pokazi_vse_pojavitve(html.replace('\\n', ''), 'Star Wars')"
   ]
  },
  {
   "cell_type": "markdown",
   "metadata": {},
   "source": [
    "V datoteki najdemo kar nekaj pojavitev, za vsako epizodo po dve: eno iz prikaza naslova in eno iz opisa slike. Vidimo, da so vsi naslovi podobne oblike: na začetku je značka `<a href=\"/title/tt0123456/?ref_=adv_li_tt\">`, pri čemer se šifra spreminja od filma do filma, na koncu je `</a>`, med njima pa je naslov filma. Če bi se zelo potrudili, bi lahko spisali program, ki iz takega niza izlušči šifro in naslov."
   ]
  },
  {
   "cell_type": "code",
   "execution_count": 7,
   "metadata": {},
   "outputs": [],
   "source": [
    "def izlusci_sifro_in_naslov(niz):\n",
    "    pred_sifro = '<a href=\"/title/tt'\n",
    "    med_sifro_in_naslovom = '/?ref_=adv_li_tt\">'\n",
    "    za_naslovom = '</a>'\n",
    "    zacetek_sifre = niz.index(pred_sifro) + len(pred_sifro)\n",
    "    konec_sifre = niz.index(med_sifro_in_naslovom)\n",
    "    zacetek_naslova = konec_sifre + len(med_sifro_in_naslovom)\n",
    "    konec_naslova = niz.index(za_naslovom)\n",
    "    sifra = int(niz[zacetek_sifre:konec_sifre])\n",
    "    naslov = niz[zacetek_naslova:konec_naslova]\n",
    "    return sifra, naslov"
   ]
  },
  {
   "cell_type": "code",
   "execution_count": 8,
   "metadata": {},
   "outputs": [
    {
     "data": {
      "text/plain": [
       "(76759, 'Star Wars: Episode IV - A New Hope')"
      ]
     },
     "execution_count": 8,
     "metadata": {},
     "output_type": "execute_result"
    }
   ],
   "source": [
    "izlusci_sifro_in_naslov('<a href=\"/title/tt0076759/?ref_=adv_li_tt\">Star Wars: Episode IV - A New Hope</a>')"
   ]
  },
  {
   "cell_type": "code",
   "execution_count": 9,
   "metadata": {},
   "outputs": [
    {
     "data": {
      "text/plain": [
       "(86190, 'Star Wars: Episode VI - Return of the Jedi')"
      ]
     },
     "execution_count": 9,
     "metadata": {},
     "output_type": "execute_result"
    }
   ],
   "source": [
    "izlusci_sifro_in_naslov('<a href=\"/title/tt0086190/?ref_=adv_li_tt\">Star Wars: Episode VI - Return of the Jedi</a>')"
   ]
  },
  {
   "cell_type": "markdown",
   "metadata": {},
   "source": [
    "Podobno bi lahko naredili še za leto izida, dolžino in ostalo, vendar mora obstajati boljši način. Mi si bomo pogledali dva. Prvi način so regularni izrazi - ti so univerzalno (z manjšimi dialekti) razširjeni zapis vzorcev nizov, ki jih lahko uporabljamo za delo s kakršnim koli besedilom. Regularne izraze podpirajo praktično vsi programski jeziki in naprednejši urejevalniki besedil. Zaradi vseobče uporabnosti se bomo regularnim izrazom bolj posvetili, niso pa vedno najboljše orodje pri roki, saj zaradi splošnosti ne izkoristijo vse strukture, ki je na voljo. Zato si bomo ogledali še drugi način, knjižnico [Beautiful Soup](https://www.crummy.com/software/BeautifulSoup/), ki je namenjena analizi HTML datotek.\n",
    "\n",
    "## Regularni izrazi v Pythonu\n",
    "\n",
    "Za delo z regularnimi izrazi (ali regeksi) v Pythonu uporabljamo knjižnico [`re`](https://docs.python.org/3/library/re.html), ki je vključen v vsako različico Pythona. V njej je najbolj osnovna funkcija `search`, ki sprejme vzorec in besedilo, v katerem iščemo, ter vrne prvo pojavitev, predstavljeno z objektom razreda `re.Match`."
   ]
  },
  {
   "cell_type": "code",
   "execution_count": 10,
   "metadata": {},
   "outputs": [
    {
     "data": {
      "text/plain": [
       "<re.Match object; span=(6, 8), match='ma'>"
      ]
     },
     "execution_count": 10,
     "metadata": {},
     "output_type": "execute_result"
    }
   ],
   "source": [
    "import re\n",
    "re.search('ma', 'Ena sama je, mama!')"
   ]
  },
  {
   "cell_type": "markdown",
   "metadata": {},
   "source": [
    "V objektu imamo dostop do začetka in konca pojavitve in njene vsebine. Uporabimo lahko tudi funkcijo `re.finditer`, ki vrne iterator po vseh pojavitvah:"
   ]
  },
  {
   "cell_type": "code",
   "execution_count": 11,
   "metadata": {},
   "outputs": [
    {
     "data": {
      "text/plain": [
       "[<re.Match object; span=(6, 8), match='ma'>,\n",
       " <re.Match object; span=(13, 15), match='ma'>,\n",
       " <re.Match object; span=(15, 17), match='ma'>]"
      ]
     },
     "execution_count": 11,
     "metadata": {},
     "output_type": "execute_result"
    }
   ],
   "source": [
    "list(re.finditer('ma', 'Ena sama je, mama!'))"
   ]
  },
  {
   "cell_type": "markdown",
   "metadata": {},
   "source": [
    "S pomočjo te funkcije lahko na veliko bolj enostaven način napišemo funkcijo `vse_pojavitve`."
   ]
  },
  {
   "cell_type": "code",
   "execution_count": 12,
   "metadata": {},
   "outputs": [],
   "source": [
    "def vse_pojavitve(besedilo: str, vzorec: str):\n",
    "    for pojavitev in re.finditer(vzorec, besedilo):\n",
    "        yield pojavitev.start(), pojavitev.end()"
   ]
  },
  {
   "cell_type": "code",
   "execution_count": 13,
   "metadata": {},
   "outputs": [
    {
     "name": "stdout",
     "output_type": "stream",
     "text": [
      "Ena sama je, mama!\n",
      "      ^^\n",
      "Ena sama je, mama!\n",
      "             ^^\n",
      "Ena sama je, mama!\n",
      "               ^^\n"
     ]
    }
   ],
   "source": [
    "pokazi_vse_pojavitve('Ena sama je, mama!', 'ma')"
   ]
  },
  {
   "cell_type": "markdown",
   "metadata": {},
   "source": [
    "Seveda pa regularni izrazi pokažejo svojo pravo moč, ko začnemo uporabljati še ostale vzorce. Vse lahko najdete v [uradni dokumentaciji](https://docs.python.org/3/library/re.html#regular-expression-syntax), mi pa si poglejmo najbolj pogoste.\n",
    "\n",
    "### Vzorci za znake\n",
    "\n",
    "Katerikoli znak predstavimo s piko:"
   ]
  },
  {
   "cell_type": "code",
   "execution_count": 14,
   "metadata": {},
   "outputs": [
    {
     "name": "stdout",
     "output_type": "stream",
     "text": [
      "Ena sama je, mama!\n",
      " ^^\n",
      "Ena sama je, mama!\n",
      "    ^^\n",
      "Ena sama je, mama!\n",
      "      ^^\n",
      "Ena sama je, mama!\n",
      "             ^^\n",
      "Ena sama je, mama!\n",
      "               ^^\n"
     ]
    }
   ],
   "source": [
    "pokazi_vse_pojavitve('Ena sama je, mama!', '.a')"
   ]
  },
  {
   "cell_type": "code",
   "execution_count": 15,
   "metadata": {},
   "outputs": [
    {
     "name": "stdout",
     "output_type": "stream",
     "text": [
      "Ena sama je, mama!\n",
      "     ^^\n",
      "Ena sama je, mama!\n",
      "            ^^\n",
      "Ena sama je, mama!\n",
      "              ^^\n"
     ]
    }
   ],
   "source": [
    "pokazi_vse_pojavitve('Ena sama je, mama!', '.m')"
   ]
  },
  {
   "cell_type": "markdown",
   "metadata": {},
   "source": [
    "Piko samo predstavimo z vzorcem `\\.`. Pri tem je potrebno upoštevati, da je vzorec sestavljen iz dveh znakov: poševnice in pike, zato je treba v Pythonu za poševnico uporabiti ubežni znak:"
   ]
  },
  {
   "cell_type": "code",
   "execution_count": 16,
   "metadata": {},
   "outputs": [
    {
     "name": "stdout",
     "output_type": "stream",
     "text": [
      "akad. prof. dr. Jana Obvlada\n",
      "    ^\n",
      "akad. prof. dr. Jana Obvlada\n",
      "          ^\n",
      "akad. prof. dr. Jana Obvlada\n",
      "              ^\n"
     ]
    }
   ],
   "source": [
    "pokazi_vse_pojavitve('akad. prof. dr. Jana Obvlada', '\\\\.')"
   ]
  },
  {
   "cell_type": "markdown",
   "metadata": {},
   "source": [
    "Ker veliko vzorcev uporablja poševnice, dvojne poševnice pa je nadležno pisati, bomo raje uporabili _surove_ nize, v katerih Python ne uporablja ubežnih znakov in `\\` pomeni preprosto `\\`. Dobimo tako, da pred narekovaj napišemo `r`."
   ]
  },
  {
   "cell_type": "code",
   "execution_count": 17,
   "metadata": {},
   "outputs": [
    {
     "name": "stdout",
     "output_type": "stream",
     "text": [
      "akad. prof. dr. Jana Obvlada\n",
      "    ^\n",
      "akad. prof. dr. Jana Obvlada\n",
      "          ^\n",
      "akad. prof. dr. Jana Obvlada\n",
      "              ^\n"
     ]
    }
   ],
   "source": [
    "pokazi_vse_pojavitve('akad. prof. dr. Jana Obvlada', r'\\.')"
   ]
  },
  {
   "cell_type": "markdown",
   "metadata": {},
   "source": [
    "Običajno surove nize uporabljamo za zapis regularnih izrazov (tudi Visual Studio Code v surovih nizih obarva regularne izraze), vendar `r` ne pomeni _regex_ temveč _raw_.\n",
    "\n",
    "Vse števke predstavimo z vzorcem `\\d`, vse črke z vzorcem `\\w`, vse bele znake (presledke, tabulatorje, znake za novo vrstico) pa z vzorcem `\\s`:"
   ]
  },
  {
   "cell_type": "code",
   "execution_count": 18,
   "metadata": {},
   "outputs": [
    {
     "name": "stdout",
     "output_type": "stream",
     "text": [
      "Potrebujem 500g moke.\n",
      "           ^^^\n"
     ]
    }
   ],
   "source": [
    "pokazi_vse_pojavitve('Potrebujem 500g moke.', r'\\d+')"
   ]
  },
  {
   "cell_type": "code",
   "execution_count": 19,
   "metadata": {},
   "outputs": [
    {
     "name": "stdout",
     "output_type": "stream",
     "text": [
      "Potrebujem 500g moke.\n",
      "^^^^^^^^^^\n",
      "Potrebujem 500g moke.\n",
      "           ^^^^\n",
      "Potrebujem 500g moke.\n",
      "                ^^^^\n"
     ]
    }
   ],
   "source": [
    "pokazi_vse_pojavitve('Potrebujem 500g moke.', r'\\w+')"
   ]
  },
  {
   "cell_type": "code",
   "execution_count": 20,
   "metadata": {},
   "outputs": [
    {
     "name": "stdout",
     "output_type": "stream",
     "text": [
      "Potrebujem 500g moke.\n",
      "          ^\n",
      "Potrebujem 500g moke.\n",
      "               ^\n"
     ]
    }
   ],
   "source": [
    "pokazi_vse_pojavitve('Potrebujem 500g moke.', r'\\s+')"
   ]
  },
  {
   "cell_type": "markdown",
   "metadata": {},
   "source": [
    "Če uporabimo veliko tiskano črko, dobimo komplement. Tako vzorcu `\\D` ustrezajo vsi znaki razen števk, vzorcu `\\W` vsi znaki razen črk, vzorcu `\\S` pa vsi znaki razen belih."
   ]
  },
  {
   "cell_type": "code",
   "execution_count": 21,
   "metadata": {},
   "outputs": [
    {
     "name": "stdout",
     "output_type": "stream",
     "text": [
      "Potrebujem 500g moke.\n",
      "^^^^^^^^^^^\n",
      "Potrebujem 500g moke.\n",
      "              ^^^^^^^\n"
     ]
    }
   ],
   "source": [
    "pokazi_vse_pojavitve('Potrebujem 500g moke.', r'\\D+')"
   ]
  },
  {
   "cell_type": "code",
   "execution_count": 22,
   "metadata": {},
   "outputs": [
    {
     "name": "stdout",
     "output_type": "stream",
     "text": [
      "Potrebujem 500g moke.\n",
      "          ^\n",
      "Potrebujem 500g moke.\n",
      "               ^\n",
      "Potrebujem 500g moke.\n",
      "                    ^\n"
     ]
    }
   ],
   "source": [
    "pokazi_vse_pojavitve('Potrebujem 500g moke.', r'\\W+')"
   ]
  },
  {
   "cell_type": "code",
   "execution_count": 23,
   "metadata": {},
   "outputs": [
    {
     "name": "stdout",
     "output_type": "stream",
     "text": [
      "Potrebujem 500g moke.\n",
      "^^^^^^^^^^\n",
      "Potrebujem 500g moke.\n",
      "           ^^^^\n",
      "Potrebujem 500g moke.\n",
      "                ^^^^^\n"
     ]
    }
   ],
   "source": [
    "pokazi_vse_pojavitve('Potrebujem 500g moke.', r'\\S+')"
   ]
  },
  {
   "cell_type": "markdown",
   "metadata": {},
   "source": [
    "Omenimo tudi vzorca `\\b` ter `\\B` _(boundary)_. Oba sta ničelne širine, torej sama ne označujeta nobenega znaka. `\\b` označuje pozicijo med besednim znakom (karkoli ujemajoče z \\w) ter nebesednim znakom (karkoli ujemajoče z \\W)."
   ]
  },
  {
   "cell_type": "code",
   "execution_count": 24,
   "metadata": {},
   "outputs": [
    {
     "name": "stdout",
     "output_type": "stream",
     "text": [
      "Je pravo vprašanje kaj ali zakaj?\n",
      "                   ^^^\n"
     ]
    }
   ],
   "source": [
    "pokazi_vse_pojavitve('Je pravo vprašanje kaj ali zakaj?', r'\\bkaj\\b')"
   ]
  },
  {
   "cell_type": "markdown",
   "metadata": {},
   "source": [
    "Vzorec `\\B` pa predstavlja ravno obratno. Uporabimo ga, kadar iskani del ni na začetku ali koncu besede."
   ]
  },
  {
   "cell_type": "code",
   "execution_count": 25,
   "metadata": {},
   "outputs": [
    {
     "name": "stdout",
     "output_type": "stream",
     "text": [
      "Svet ni niti bel, niti črnobel.\n",
      "                           ^^^\n"
     ]
    }
   ],
   "source": [
    "pokazi_vse_pojavitve('Svet ni niti bel, niti črnobel.', r'\\Bbel\\b')"
   ]
  },
  {
   "cell_type": "markdown",
   "metadata": {},
   "source": [
    "Če se želimo omejiti na posamezne znake ali posamezen razpon zaporednih znakov, jih naštejemo med oglatimi oklepaji:"
   ]
  },
  {
   "cell_type": "code",
   "execution_count": 26,
   "metadata": {},
   "outputs": [
    {
     "name": "stdout",
     "output_type": "stream",
     "text": [
      "ata, mama, teta, stric\n",
      " ^^^\n",
      "ata, mama, teta, stric\n",
      "     ^^^\n",
      "ata, mama, teta, stric\n",
      "           ^^^\n",
      "ata, mama, teta, stric\n",
      "                   ^^^\n"
     ]
    }
   ],
   "source": [
    "pokazi_vse_pojavitve('ata, mama, teta, stric', r'.[aeiou].')"
   ]
  },
  {
   "cell_type": "code",
   "execution_count": 27,
   "metadata": {},
   "outputs": [
    {
     "name": "stdout",
     "output_type": "stream",
     "text": [
      "ata, mama, teta, stric\n",
      "     ^^^\n",
      "ata, mama, teta, stric\n",
      "           ^^^\n",
      "ata, mama, teta, stric\n",
      "                   ^^^\n"
     ]
    }
   ],
   "source": [
    "pokazi_vse_pojavitve('ata, mama, teta, stric', r'.[aeiou][a-z]')"
   ]
  },
  {
   "cell_type": "markdown",
   "metadata": {},
   "source": [
    "Če kot prvi znak v oglatih oklepajih damo `^`, dobimo komplement:"
   ]
  },
  {
   "cell_type": "code",
   "execution_count": 28,
   "metadata": {},
   "outputs": [
    {
     "name": "stdout",
     "output_type": "stream",
     "text": [
      "ata, mama, teta, stric\n",
      "^^^\n",
      "ata, mama, teta, stric\n",
      "   ^^^\n",
      "ata, mama, teta, stric\n",
      "      ^^^\n",
      "ata, mama, teta, stric\n",
      "         ^^^\n",
      "ata, mama, teta, stric\n",
      "            ^^^\n",
      "ata, mama, teta, stric\n",
      "               ^^^\n",
      "ata, mama, teta, stric\n",
      "                  ^^^\n"
     ]
    }
   ],
   "source": [
    "pokazi_vse_pojavitve('ata, mama, teta, stric', r'.[^aeiou].')"
   ]
  },
  {
   "cell_type": "markdown",
   "metadata": {},
   "source": [
    "### Kvantifikatorji\n",
    "\n",
    "Z `*` označimo poljubno mnogo ponovitev danega vzorca:"
   ]
  },
  {
   "cell_type": "code",
   "execution_count": 29,
   "metadata": {},
   "outputs": [
    {
     "name": "stdout",
     "output_type": "stream",
     "text": [
      "Oddal sem davčno napoved\n",
      " ^^^\n",
      "Oddal sem davčno napoved\n",
      "          ^^\n",
      "Oddal sem davčno napoved\n",
      "                  ^\n"
     ]
    }
   ],
   "source": [
    "pokazi_vse_pojavitve('Oddal sem davčno napoved', r'd*a')"
   ]
  },
  {
   "cell_type": "markdown",
   "metadata": {},
   "source": [
    "Če želimo, da se vzorec pojavi vsaj enkrat, uporabimo `+`:"
   ]
  },
  {
   "cell_type": "code",
   "execution_count": 30,
   "metadata": {},
   "outputs": [
    {
     "name": "stdout",
     "output_type": "stream",
     "text": [
      "Oddal sem davčno napoved\n",
      " ^^^\n",
      "Oddal sem davčno napoved\n",
      "          ^^\n"
     ]
    }
   ],
   "source": [
    "pokazi_vse_pojavitve('Oddal sem davčno napoved', r'd+a')"
   ]
  },
  {
   "cell_type": "markdown",
   "metadata": {},
   "source": [
    "Kvantifikatorja `*` in `+` sta požrešna, kar pomeni, da poskusita zajeti kolikor znakov lahko:"
   ]
  },
  {
   "cell_type": "code",
   "execution_count": 31,
   "metadata": {},
   "outputs": [
    {
     "name": "stdout",
     "output_type": "stream",
     "text": [
      "Oddal sem davčno napoved\n",
      " ^^^^^^^^^^^^^^^^^^\n"
     ]
    }
   ],
   "source": [
    "pokazi_vse_pojavitve('Oddal sem davčno napoved', r'd.*a')"
   ]
  },
  {
   "cell_type": "code",
   "execution_count": 32,
   "metadata": {},
   "outputs": [
    {
     "name": "stdout",
     "output_type": "stream",
     "text": [
      "Oddal sem davčno napoved\n",
      " ^^^^^^^^^^^^^^^^^^\n"
     ]
    }
   ],
   "source": [
    "pokazi_vse_pojavitve('Oddal sem davčno napoved', r'd.+a')"
   ]
  },
  {
   "cell_type": "markdown",
   "metadata": {},
   "source": [
    "Če želimo najti najkrajše možne pojavitve, moramo na koncu dodati še `?`:"
   ]
  },
  {
   "cell_type": "code",
   "execution_count": 33,
   "metadata": {},
   "outputs": [
    {
     "name": "stdout",
     "output_type": "stream",
     "text": [
      "Oddal sem davčno napoved\n",
      " ^^^\n",
      "Oddal sem davčno napoved\n",
      "          ^^\n"
     ]
    }
   ],
   "source": [
    "pokazi_vse_pojavitve('Oddal sem davčno napoved', r'd.*?a')"
   ]
  },
  {
   "cell_type": "code",
   "execution_count": 34,
   "metadata": {},
   "outputs": [
    {
     "name": "stdout",
     "output_type": "stream",
     "text": [
      "Oddal sem davčno napoved\n",
      " ^^^\n",
      "Oddal sem davčno napoved\n",
      "          ^^^^^^^^^\n"
     ]
    }
   ],
   "source": [
    "pokazi_vse_pojavitve('Oddal sem davčno napoved', r'd.+?a')"
   ]
  },
  {
   "cell_type": "markdown",
   "metadata": {},
   "source": [
    "Če uporabimo samo `?`, to pomeni morebitno pojavitev vzorca:"
   ]
  },
  {
   "cell_type": "code",
   "execution_count": 35,
   "metadata": {},
   "outputs": [
    {
     "name": "stdout",
     "output_type": "stream",
     "text": [
      "Oddal sem davčno napoved\n",
      " ^\n",
      "Oddal sem davčno napoved\n",
      "  ^^\n",
      "Oddal sem davčno napoved\n",
      "          ^^\n",
      "Oddal sem davčno napoved\n",
      "                       ^\n"
     ]
    }
   ],
   "source": [
    "pokazi_vse_pojavitve('Oddal sem davčno napoved', r'da?')"
   ]
  },
  {
   "cell_type": "markdown",
   "metadata": {},
   "source": [
    "Če želimo dobiti znake `*`, `+` in `?` uporabimo `\\*`, `\\+` in `\\?`.\n",
    "\n",
    "Kvantifikatorji `*`, `+` in `?` so posebni primeri kvantifikatorja `{m,n}`, ki predstavlja katerokoli število ponovitev med `m` in `n`, pri čemer lahko kakšno izmed meja tudi izpustimo. Tako je kvantifikator `*` okrajšava za `{0,}`, kvantifikator `+` okrajšava za `{1,}`, kvantifikator `?` pa okrajšava za `{0,1}`."
   ]
  },
  {
   "cell_type": "code",
   "execution_count": 36,
   "metadata": {},
   "outputs": [
    {
     "name": "stdout",
     "output_type": "stream",
     "text": [
      "\"Brrrr, brrrrrr, brrr, brrrrrrr,\" je drgetal od mraza.\n",
      " ^^^^^\n",
      "\"Brrrr, brrrrrr, brrr, brrrrrrr,\" je drgetal od mraza.\n",
      "        ^^^^^^\n",
      "\"Brrrr, brrrrrr, brrr, brrrrrrr,\" je drgetal od mraza.\n",
      "                       ^^^^^^\n"
     ]
    }
   ],
   "source": [
    "pokazi_vse_pojavitve('\"Brrrr, brrrrrr, brrr, brrrrrrr,\" je drgetal od mraza.', r'[Bb]r{4,5}')"
   ]
  },
  {
   "cell_type": "code",
   "execution_count": 37,
   "metadata": {},
   "outputs": [
    {
     "name": "stdout",
     "output_type": "stream",
     "text": [
      "\"Brrr, brrrrrr, brrr, brrrrrrr,\" je drgetal od mraza.\n",
      "       ^^^^^^^\n",
      "\"Brrr, brrrrrr, brrr, brrrrrrr,\" je drgetal od mraza.\n",
      "                      ^^^^^^^^\n"
     ]
    }
   ],
   "source": [
    "pokazi_vse_pojavitve('\"Brrr, brrrrrr, brrr, brrrrrrr,\" je drgetal od mraza.', r'[Bb]r{4,}')"
   ]
  },
  {
   "cell_type": "code",
   "execution_count": 38,
   "metadata": {},
   "outputs": [
    {
     "name": "stdout",
     "output_type": "stream",
     "text": [
      "\"Brrr, brrrrrr, brrr, brrrrrrr,\" je drgetal od mraza.\n",
      " ^^^^\n",
      "\"Brrr, brrrrrr, brrr, brrrrrrr,\" je drgetal od mraza.\n",
      "       ^^^^^^\n",
      "\"Brrr, brrrrrr, brrr, brrrrrrr,\" je drgetal od mraza.\n",
      "                ^^^^\n",
      "\"Brrr, brrrrrr, brrr, brrrrrrr,\" je drgetal od mraza.\n",
      "                      ^^^^^^\n"
     ]
    }
   ],
   "source": [
    "pokazi_vse_pojavitve('\"Brrr, brrrrrr, brrr, brrrrrrr,\" je drgetal od mraza.', r'[Bb]r{,5}')"
   ]
  },
  {
   "cell_type": "markdown",
   "metadata": {},
   "source": [
    "### Skupine\n",
    "\n",
    "Vzorce lahko z oklepaji združujemo v skupine:"
   ]
  },
  {
   "cell_type": "code",
   "execution_count": 39,
   "metadata": {},
   "outputs": [
    {
     "name": "stdout",
     "output_type": "stream",
     "text": [
      "tralala hopsasa\n",
      " ^^^^^^\n",
      "tralala hopsasa\n",
      "        ^^\n",
      "tralala hopsasa\n",
      "           ^^^^\n"
     ]
    }
   ],
   "source": [
    "pokazi_vse_pojavitve('tralala hopsasa', r'([^aeiou][aeiou])+')"
   ]
  },
  {
   "cell_type": "markdown",
   "metadata": {},
   "source": [
    "V pojavitvi lahko do posameznih skupin dostopamo prek metode `group`. Celotna pojavitev ima indeks `0`, nato pa so oštevilčene glede na uklepaje:"
   ]
  },
  {
   "cell_type": "code",
   "execution_count": 40,
   "metadata": {},
   "outputs": [
    {
     "name": "stdout",
     "output_type": "stream",
     "text": [
      "enota: g, vrednost: 500\n",
      "enota: ml, vrednost: 250\n"
     ]
    }
   ],
   "source": [
    "recept = 'Potrebujem 500 g moke in 250 ml vode.'\n",
    "vzorec = r'(\\d+) (\\w+)'\n",
    "for pojavitev in re.finditer(vzorec, recept):\n",
    "    print(f'enota: {pojavitev.group(2)}, vrednost: {pojavitev.group(1)}')"
   ]
  },
  {
   "cell_type": "markdown",
   "metadata": {},
   "source": [
    "Dostikrat je koristno, da skupine poimenujemo, kar storimo tako, da skupino pišemo kot `(?P<ime_skupine>...)`. Do vseh skupin potem dostopamo prek metode `groupdict`:"
   ]
  },
  {
   "cell_type": "code",
   "execution_count": 41,
   "metadata": {},
   "outputs": [
    {
     "data": {
      "text/plain": [
       "[{'kolicina': '500', 'enota': 'g'}, {'kolicina': '250', 'enota': 'ml'}]"
      ]
     },
     "execution_count": 41,
     "metadata": {},
     "output_type": "execute_result"
    }
   ],
   "source": [
    "vzorec = r'(?P<kolicina>\\d+) (?P<enota>\\w+)'\n",
    "[pojavitev.groupdict() for pojavitev in re.finditer(vzorec, recept)]"
   ]
  },
  {
   "cell_type": "markdown",
   "metadata": {},
   "source": [
    "Zgornjo funkcijo bi tako lepše napisali kot:"
   ]
  },
  {
   "cell_type": "code",
   "execution_count": 42,
   "metadata": {},
   "outputs": [],
   "source": [
    "def izlusci_sifro_in_naslov(niz):\n",
    "    vzorec = r'<a href=\"/title/tt(?P<sifra>\\d+)/\\?ref_=adv_li_tt\">(?P<naslov>.*?)</a>'\n",
    "    pojavitev = re.search(vzorec, niz)\n",
    "    sifra = int(pojavitev.group('sifra'))\n",
    "    naslov = pojavitev.group('naslov')\n",
    "    return sifra, naslov"
   ]
  },
  {
   "cell_type": "code",
   "execution_count": 43,
   "metadata": {},
   "outputs": [
    {
     "data": {
      "text/plain": [
       "(76759, 'Star Wars: Episode IV - A New Hope')"
      ]
     },
     "execution_count": 43,
     "metadata": {},
     "output_type": "execute_result"
    }
   ],
   "source": [
    "izlusci_sifro_in_naslov('<a href=\"/title/tt0076759/?ref_=adv_li_tt\">Star Wars: Episode IV - A New Hope</a>')"
   ]
  },
  {
   "cell_type": "code",
   "execution_count": 44,
   "metadata": {},
   "outputs": [
    {
     "data": {
      "text/plain": [
       "(86190, 'Star Wars: Episode VI - Return of the Jedi')"
      ]
     },
     "execution_count": 44,
     "metadata": {},
     "output_type": "execute_result"
    }
   ],
   "source": [
    "izlusci_sifro_in_naslov('<a href=\"/title/tt0086190/?ref_=adv_li_tt\">Star Wars: Episode VI - Return of the Jedi</a>')"
   ]
  },
  {
   "cell_type": "markdown",
   "metadata": {},
   "source": [
    "## Metode za delo z regularnimi izrazi\n",
    "\n",
    "V knjižnici `re` je na voljo več funkcij za delo z regularnimi izrazi:\n",
    "\n",
    "- `search`, ki vrne prvo pojavitev danega vzorca v nizu oziroma `None`, če je ni:\n",
    "\n",
    "  ```{code-cell}\n",
    "  re.search(r'\\d', '3, 4, zdaj!')\n",
    "  ```\n",
    "\n",
    "  ```{code-cell}\n",
    "  re.search(r'\\d', 'tri, štiri, zdaj!')\n",
    "  ```\n",
    "\n",
    "- `match`, ki vrne pojavitev, če ta ustreza začetku niza oziroma `None`, če ne:\n",
    "\n",
    "  ```{code-cell}\n",
    "  re.match(r'\\d+', '500 g moke')\n",
    "  ```\n",
    "\n",
    "  ```{code-cell}\n",
    "  re.match(r'\\d+', 'Potrebujem 500 g moke.')\n",
    "  ```\n",
    "\n",
    "- `fullmatch`, ki vrne pojavitev, če ta ustreza celotnemu nizu oziroma `None`, če ne:\n",
    "\n",
    "  ```{code-cell}\n",
    "  re.fullmatch(r'\\w+', 'Proseminar')\n",
    "  ```\n",
    "\n",
    "  ```{code-cell}\n",
    "  re.fullmatch(r'\\w+', 'Uvod v programiranje')\n",
    "  ```\n",
    "\n",
    "- `finditer`, ki vrne iterator čez vse pojavitve vzorca v nizu:\n",
    "\n",
    "  ```{code-cell}\n",
    "  list(re.finditer(r'\\d', '3, 4, zdaj!'))\n",
    "  ```\n",
    "\n",
    "- `findall`, ki vrne seznam vsebin vseh pojavitev vzorca v nizu:\n",
    "\n",
    "  ```{code-cell}\n",
    "  re.findall(r'\\d', '3, 4, zdaj!')\n",
    "  ```\n",
    "\n",
    "- `split`, ki dani niz razdeli po pojavitvah:\n",
    "\n",
    "  ```{code-cell}\n",
    "  re.split(r'[aeiou]', 'otorinolaringolog')\n",
    "  ```\n",
    "\n",
    "- `sub`, ki v danem nizu pojavitve zamenja z drugimi nizi, v katerih lahko do posameznih skupin dostopamo prek `\\1`, `\\2`, ...\n",
    "\n",
    "  ```{code-cell}\n",
    "  def daj_en_presledek_za_vsako_stevilko(niz):\n",
    "      stevilka_in_morebitni_presledki = r'(\\d+)\\s*'\n",
    "      return re.sub(stevilka_in_morebitni_presledki, r'\\1 ', niz)\n",
    "  ```\n",
    "\n",
    "  ```{code-cell}\n",
    "  daj_en_presledek_za_vsako_stevilko('500g moke in 250    ml vode')\n",
    "  ```\n",
    "\n",
    "Vse zgoraj omenjene funkcije poleg običajnih argumentov sprejmejo še dodatne parametre, ki jih imenujemo zastavice in malenkostno spreminjajo iskanje. Na primer, z `re.IGNORECASE` pri iskanju ne razlikujemo med malimi in velikimi črkami:"
   ]
  },
  {
   "cell_type": "code",
   "execution_count": 45,
   "metadata": {},
   "outputs": [
    {
     "data": {
      "text/plain": [
       "['a', 'a']"
      ]
     },
     "execution_count": 45,
     "metadata": {},
     "output_type": "execute_result"
    }
   ],
   "source": [
    "re.findall(r'a', 'Abraham')"
   ]
  },
  {
   "cell_type": "code",
   "execution_count": 46,
   "metadata": {},
   "outputs": [
    {
     "data": {
      "text/plain": [
       "['A', 'a', 'a']"
      ]
     },
     "execution_count": 46,
     "metadata": {},
     "output_type": "execute_result"
    }
   ],
   "source": [
    "re.findall(r'a', 'Abraham', flags=re.IGNORECASE)"
   ]
  },
  {
   "cell_type": "markdown",
   "metadata": {},
   "source": [
    "Druga pogosto uporabljana zastavica je `re.DOTALL`. Vzorec `.` običajno pomeni vse znake razen znaka za novo vrstico. Če uporabimo `re.DOTALL`, pa vključuje tudi tega:"
   ]
  },
  {
   "cell_type": "code",
   "execution_count": 47,
   "metadata": {},
   "outputs": [
    {
     "data": {
      "text/plain": [
       "['XyzzY', 'X    Y']"
      ]
     },
     "execution_count": 47,
     "metadata": {},
     "output_type": "execute_result"
    }
   ],
   "source": [
    "re.findall(r'X.*?Y', 'XyzzY X    Y X\\nY')"
   ]
  },
  {
   "cell_type": "code",
   "execution_count": 48,
   "metadata": {},
   "outputs": [
    {
     "data": {
      "text/plain": [
       "['XyzzY', 'X    Y', 'X\\nY']"
      ]
     },
     "execution_count": 48,
     "metadata": {},
     "output_type": "execute_result"
    }
   ],
   "source": [
    "re.findall(r'X.*?Y', 'XyzzY X    Y X\\nY', flags=re.DOTALL)"
   ]
  },
  {
   "cell_type": "markdown",
   "metadata": {},
   "source": [
    "Če želimo uporabiti več zastavic, jih v eno sestavimo z `|`:"
   ]
  },
  {
   "cell_type": "code",
   "execution_count": 49,
   "metadata": {},
   "outputs": [
    {
     "data": {
      "text/plain": [
       "['Xy', 'x    y', 'X\\nY']"
      ]
     },
     "execution_count": 49,
     "metadata": {},
     "output_type": "execute_result"
    }
   ],
   "source": [
    "re.findall(r'X.*?Y', 'XyzzY x    y X\\nY', flags=(re.DOTALL|re.IGNORECASE))"
   ]
  },
  {
   "cell_type": "markdown",
   "metadata": {},
   "source": [
    "Vse zgoraj omenjene funkcije sprejmejo niz z vzorcem, ki ga iščemo. Še bolj Pythonovsko in tudi bolj učinkovito, če vzorec uporabljamo večkrat, pa je, da vzorec s funkcijo `compile` pretvorimo v objekt `re.Pattern`. Na takem objektu lahko potem kličemo metode z istimi imeni kot zgoraj omenjene funkcije."
   ]
  },
  {
   "cell_type": "code",
   "execution_count": 50,
   "metadata": {},
   "outputs": [
    {
     "data": {
      "text/plain": [
       "['Xy', 'x    y', 'X\\nY']"
      ]
     },
     "execution_count": 50,
     "metadata": {},
     "output_type": "execute_result"
    }
   ],
   "source": [
    "izraz = re.compile(r'X.*?Y', flags=(re.DOTALL|re.IGNORECASE))\n",
    "izraz.findall('XyzzY x    y X\\nY')"
   ]
  },
  {
   "cell_type": "markdown",
   "metadata": {},
   "source": [
    "## Organizacija večjih regularnih izrazov\n",
    "\n",
    "Če želimo zajeti veliko podatkov, potrebujemo vedno bolj zapletene regularne izraze, kar postane hitro nepregledno. Najprej si bomo pomagali s tem, da bomo regularne izraze pisali čez več vrstic. Python nam omogoča, da dobesedne nize (torej tiste v narekovajih) stikamo tako, da jih pišemo enega za drugim, na primer:"
   ]
  },
  {
   "cell_type": "code",
   "execution_count": 51,
   "metadata": {},
   "outputs": [
    {
     "data": {
      "text/plain": [
       "'Tole dela, ker imamo 6 nizov v narekovajih.'"
      ]
     },
     "execution_count": 51,
     "metadata": {},
     "output_type": "execute_result"
    }
   ],
   "source": [
    "'Tole ' 'dela' ',' \" ker imamo\" f\"\"\" {2 * 3}\"\"\" ' nizov v narekovajih.'"
   ]
  },
  {
   "cell_type": "code",
   "execution_count": 52,
   "metadata": {
    "tags": [
     "raises-exception"
    ]
   },
   "outputs": [
    {
     "ename": "SyntaxError",
     "evalue": "EOL while scanning string literal (<ipython-input-52-7f3653a40206>, line 2)",
     "output_type": "error",
     "traceback": [
      "\u001b[0;36m  File \u001b[0;32m\"<ipython-input-52-7f3653a40206>\"\u001b[0;36m, line \u001b[0;32m2\u001b[0m\n\u001b[0;31m    'Tole pa ne,' \"ker je vmes tudi ' izvor_tezave '.'\u001b[0m\n\u001b[0m                                                      ^\u001b[0m\n\u001b[0;31mSyntaxError\u001b[0m\u001b[0;31m:\u001b[0m EOL while scanning string literal\n"
     ]
    }
   ],
   "source": [
    "izvor_tezave = 'spremenljivka'\n",
    "'Tole pa ne,' \"ker je vmes tudi ' izvor_tezave '.'"
   ]
  },
  {
   "cell_type": "markdown",
   "metadata": {},
   "source": [
    "Poleg tega lahko v Pythonu izraze v oklepajih razbijemo čez več vrstic. Oboje skupaj nam omogoča, da vzorec filma napišemo takole:"
   ]
  },
  {
   "cell_type": "code",
   "execution_count": 53,
   "metadata": {},
   "outputs": [],
   "source": [
    "vzorec_filma = re.compile(\n",
    "    # šifro vzamemo iz povezave\n",
    "    r'<a href=\"/title/tt(?P<id>\\d+)/.*?\".*?'\n",
    "    r'img alt=\"(?P<naslov>.+?)\".*?'\n",
    "    # pri letu ignoriramo morebitne rimske številke\n",
    "    r'lister-item-year text-muted unbold\">.*?\\((?P<leto>\\d{4})\\)</span>.*?'\n",
    "    r'runtime\">(?P<dolzina>\\d+?) min</.*?'\n",
    "    # žanre zajamemo v enem kosu, ki ga bomo kasneje razbili\n",
    "    r'<span class=\"genre\">(?P<zanri>.*?)</span>.*?'\n",
    "    r'<strong>(?P<ocena>.+?)</strong>.*?'\n",
    "    r'<p class=\"text-muted\">(?P<opis>.+?)</p.*?'\n",
    "    r'Directors?:(?P<reziserji>.+?)(<span class=\"ghost\">|</p>).*?'\n",
    "    r'Votes:.*?data-value=\"(?P<glasovi>\\d+)\"',\n",
    "    flags=re.DOTALL\n",
    ")"
   ]
  },
  {
   "cell_type": "markdown",
   "metadata": {},
   "source": [
    "Poleg tega bomo napisali več manjših vzorcev, ki bodo postopoma obdelovali datoteko. Pri regularnih izrazih namreč že majhna sprememba povzroči, da iz sto zadetkov pademo na nobenega (ali pa enega, ki zajame celotno besedilo od začetka prvega do konca zadnjega želenega zadetka). Zato zgoraj napisanega vzorca filma ne bomo iskali v celotni datoteki, temveč bomo datoteko najprej razbili na osnovne bloke, v katerih so vsi podatki posameznega filma. Če se malo potrudimo, vidimo, da je ustrezen sledeči vzorec:"
   ]
  },
  {
   "cell_type": "code",
   "execution_count": 54,
   "metadata": {},
   "outputs": [],
   "source": [
    "vzorec_bloka = re.compile(\n",
    "    r'<div class=\"lister-item mode-advanced\">.*?'\n",
    "    r'</p>\\s*</div>\\s*</div>',\n",
    "    flags=re.DOTALL\n",
    ")"
   ]
  },
  {
   "cell_type": "markdown",
   "metadata": {},
   "source": [
    "Nato bomo v vsakem od blokov poiskali (edini) vzorec podatkov filma."
   ]
  },
  {
   "cell_type": "code",
   "execution_count": 55,
   "metadata": {},
   "outputs": [
    {
     "name": "stdout",
     "output_type": "stream",
     "text": [
      "{'id': '0076759', 'naslov': 'Star Wars: Episode IV - A New Hope', 'leto': '1977', 'dolzina': '121', 'zanri': '\\nAction, Adventure, Fantasy            ', 'ocena': '8.6', 'opis': \"\\n    Luke Skywalker joins forces with a Jedi Knight, a cocky pilot, a Wookiee and two droids to save the galaxy from the Empire's world-destroying battle station, while also attempting to rescue Princess Leia from the mysterious Darth Vader.\", 'reziserji': '\\n<a href=\"/name/nm0000184/?ref_=adv_li_dr_0\"\\n>George Lucas</a>\\n                 ', 'glasovi': '1209955'}\n",
      "{'id': '0080684', 'naslov': 'Star Wars: Episode V - The Empire Strikes Back', 'leto': '1980', 'dolzina': '124', 'zanri': '\\nAction, Adventure, Fantasy            ', 'ocena': '8.7', 'opis': '\\n    After the Rebels are brutally overpowered by the Empire on the ice planet Hoth, Luke Skywalker begins Jedi training with Yoda, while his friends are pursued by Darth Vader and a bounty hunter named Boba Fett all over the galaxy.', 'reziserji': '\\n<a href=\"/name/nm0449984/?ref_=adv_li_dr_0\"\\n>Irvin Kershner</a>\\n                 ', 'glasovi': '1138180'}\n",
      "{'id': '0086190', 'naslov': 'Star Wars: Episode VI - Return of the Jedi', 'leto': '1983', 'dolzina': '131', 'zanri': '\\nAction, Adventure, Fantasy            ', 'ocena': '8.3', 'opis': \"\\n    After a daring mission to rescue Han Solo from Jabba the Hutt, the Rebels dispatch to Endor to destroy the second Death Star. Meanwhile, Luke struggles to help Darth Vader back from the dark side without falling into the Emperor's trap.\", 'reziserji': '\\n<a href=\"/name/nm0549658/?ref_=adv_li_dr_0\"\\n>Richard Marquand</a>\\n                 ', 'glasovi': '932915'}\n",
      "{'id': '2488496', 'naslov': 'Star Wars: Episode VII - The Force Awakens', 'leto': '2015', 'dolzina': '138', 'zanri': '\\nAction, Adventure, Sci-Fi            ', 'ocena': '7.9', 'opis': '\\n    As a new threat to the galaxy rises, Rey, a desert scavenger, and Finn, an ex-stormtrooper, must join Han Solo and Chewbacca to search for the one hope of restoring peace.', 'reziserji': '\\n<a href=\"/name/nm0009190/?ref_=adv_li_dr_0\"\\n>J.J. Abrams</a>\\n                 ', 'glasovi': '848171'}\n",
      "{'id': '0120915', 'naslov': 'Star Wars: Episode I - The Phantom Menace', 'leto': '1999', 'dolzina': '136', 'zanri': '\\nAction, Adventure, Fantasy            ', 'ocena': '6.5', 'opis': '\\n    Two Jedi escape a hostile blockade to find allies and come across a young boy who may bring balance to the Force, but the long dormant Sith resurface to claim their original glory.', 'reziserji': '\\n<a href=\"/name/nm0000184/?ref_=adv_li_dr_0\"\\n>George Lucas</a>\\n                 ', 'glasovi': '716553'}\n",
      "{'id': '0121766', 'naslov': 'Star Wars: Episode III - Revenge of the Sith', 'leto': '2005', 'dolzina': '140', 'zanri': '\\nAction, Adventure, Fantasy            ', 'ocena': '7.5', 'opis': '\\n    Three years into the Clone Wars, the Jedi rescue Palpatine from Count Dooku. As Obi-Wan pursues a new threat, Anakin acts as a double agent between the Jedi Council and Palpatine and is lured into a sinister plan to rule the galaxy.', 'reziserji': '\\n<a href=\"/name/nm0000184/?ref_=adv_li_dr_0\"\\n>George Lucas</a>\\n                 ', 'glasovi': '697730'}\n",
      "{'id': '0121765', 'naslov': 'Star Wars: Episode II - Attack of the Clones', 'leto': '2002', 'dolzina': '142', 'zanri': '\\nAction, Adventure, Fantasy            ', 'ocena': '6.5', 'opis': '\\n    Ten years after initially meeting, Anakin Skywalker shares a forbidden romance with Padmé Amidala, while Obi-Wan Kenobi investigates an assassination attempt on the senator and discovers a secret clone army crafted for the Jedi.', 'reziserji': '\\n<a href=\"/name/nm0000184/?ref_=adv_li_dr_0\"\\n>George Lucas</a>\\n                 ', 'glasovi': '628955'}\n",
      "{'id': '2527336', 'naslov': 'Star Wars: Episode VIII - The Last Jedi', 'leto': '2017', 'dolzina': '152', 'zanri': '\\nAction, Adventure, Fantasy            ', 'ocena': '7.0', 'opis': '\\n    Rey develops her newly discovered abilities with the guidance of Luke Skywalker, who is unsettled by the strength of her powers. Meanwhile, the Resistance prepares for battle with the First Order.', 'reziserji': '\\n<a href=\"/name/nm0426059/?ref_=adv_li_dr_0\"\\n>Rian Johnson</a>\\n                 ', 'glasovi': '551147'}\n",
      "{'id': '3748528', 'naslov': 'Rogue One: A Star Wars Story', 'leto': '2016', 'dolzina': '133', 'zanri': '\\nAction, Adventure, Sci-Fi            ', 'ocena': '7.8', 'opis': '\\n    The daughter of an Imperial scientist joins the Rebel Alliance in a risky move to steal the plans for the Death Star.', 'reziserji': '\\n<a href=\"/name/nm2284484/?ref_=adv_li_dr_0\"\\n>Gareth Edwards</a>\\n                 ', 'glasovi': '541845'}\n"
     ]
    }
   ],
   "source": [
    "for blok in vzorec_bloka.finditer(html):\n",
    "    film = vzorec_filma.search(blok.group(0)).groupdict()\n",
    "    if 'Star Wars' in film['naslov']:\n",
    "      print(film)"
   ]
  },
  {
   "cell_type": "markdown",
   "metadata": {},
   "source": [
    "Nekateri izmed manj znanih filmov nimajo vseh podatkov o zaslužku ali oznakah ustreznosti. To bi lahko rešili tako, da bi del vzorca, ki zajema te podatke zapisali v obliki `(...)?`, vendar vsaka taka možnost povečuje zapletenost regularnega izraza in čas iskanja. Namesto tega lahko neobvezne podatke izločimo z dodatno analizo bloka. Na primer, zaslužek najdemo z vzorcem"
   ]
  },
  {
   "cell_type": "code",
   "execution_count": 56,
   "metadata": {},
   "outputs": [],
   "source": [
    "vzorec_zasluzka = re.compile(\n",
    "    r'Gross:.*?data-value=\"(?P<zasluzek>(\\d|,)+)\"',\n",
    "    flags=re.DOTALL\n",
    ")"
   ]
  },
  {
   "cell_type": "markdown",
   "metadata": {},
   "source": [
    "Nato pa ta vzorec poskusimo najti v vsakem bloku. Če je, ga pretvorimo v število, sicer pa ga nastavimo na `None`:"
   ]
  },
  {
   "cell_type": "code",
   "execution_count": 57,
   "metadata": {},
   "outputs": [],
   "source": [
    "zasluzek = vzorec_zasluzka.search(blok.group(0))\n",
    "if zasluzek:\n",
    "    film['zasluzek'] = int(zasluzek['zasluzek'].replace(',', ''))\n",
    "else:\n",
    "    film['zasluzek'] = None"
   ]
  },
  {
   "cell_type": "markdown",
   "metadata": {},
   "source": [
    "Podobno moramo počistiti tudi večino ostalih podatkov. Na primer, žanri se skrivajo v znački `<span class=\"genre\">...</span>`, vendar znotraj značke ni nobene strukture, samo niz, ločen z vejicami. Tako bomo žanre počistili z:\n",
    "\n",
    "```\n",
    "film['zanri'] = film['zanri'].strip().split(', ')\n",
    "```\n",
    "\n",
    "Pri igralcih in režiserjih je zadeva še bolj zapletena, ker ima vsak izmed njih še svojo šifro osebe, pa tudi zanima nas, na katerem mestu je kdo napisan (glavne vloge so na začetku, stranske pa kasneje). Tudi tu najprej zajamemo del vsebine, kjer so podatki o igralcih, nato pa znotraj tega dela z manjšim vzorcem izluščimo podatke. Celoten program lahko najdemo [tu](../01-regularni-izrazi/predavanja/preberi_podatke.py).\n",
    "\n",
    "\n",
    "## Knjižnica Beautiful Soup"
   ]
  }
 ],
 "metadata": {
  "jupytext": {
   "cell_metadata_filter": "-all",
   "formats": "md:myst",
   "text_representation": {
    "extension": ".md",
    "format_name": "myst",
    "format_version": "0.8",
    "jupytext_version": "1.5.0"
   }
  },
  "kernelspec": {
   "display_name": "Python 3",
   "language": "python",
   "name": "python3"
  },
  "language_info": {
   "codemirror_mode": {
    "name": "ipython",
    "version": 3
   },
   "file_extension": ".py",
   "mimetype": "text/x-python",
   "name": "python",
   "nbconvert_exporter": "python",
   "pygments_lexer": "ipython3",
   "version": "3.7.9"
  },
  "source_map": [
   14,
   24,
   29,
   33,
   45,
   47,
   51,
   60,
   62,
   66,
   68,
   72,
   86,
   90,
   92,
   100,
   103,
   107,
   109,
   113,
   119,
   121,
   129,
   133,
   135,
   139,
   141,
   145,
   147,
   153,
   157,
   161,
   163,
   167,
   171,
   175,
   177,
   181,
   183,
   187,
   189,
   193,
   197,
   199,
   203,
   205,
   211,
   213,
   217,
   219,
   223,
   227,
   229,
   233,
   237,
   239,
   243,
   245,
   251,
   255,
   259,
   261,
   267,
   269,
   273,
   278,
   282,
   285,
   289,
   298,
   302,
   304,
   372,
   376,
   378,
   382,
   386,
   388,
   392,
   394,
   398,
   401,
   407,
   411,
   415,
   419,
   435,
   439,
   445,
   449,
   454,
   458,
   463,
   467,
   473
  ]
 },
 "nbformat": 4,
 "nbformat_minor": 4
}