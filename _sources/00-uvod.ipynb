{
 "cells": [
  {
   "cell_type": "markdown",
   "metadata": {},
   "source": [
    "# Programiranje 1\n",
    "\n",
    "\n",
    "\n",
    "```{toctree}\n",
    ":hidden:\n",
    ":titlesonly:\n",
    ":caption: Analiza podatkov\n",
    "\n",
    "01-regularni-izrazi.md\n",
    "02-zajem-podatkov.md\n",
    "03-knjiznica-pandas.md\n",
    "04-naivni-bayesov-klasifikator.md\n",
    "```\n",
    "\n",
    "\n",
    "```{toctree}\n",
    ":hidden:\n",
    ":titlesonly:\n",
    ":caption: Funkcijsko programiranje\n",
    "\n",
    "05-uvod-v-ocaml.md\n",
    "06-funkcijsko-programiranje.md\n",
    "07-definicije-tipov.md\n",
    "08-ucinki-in-cistost.md\n",
    "```\n",
    "\n",
    "\n",
    "```{toctree}\n",
    ":hidden:\n",
    ":titlesonly:\n",
    ":caption: Podatkovne strukture in algoritmi\n",
    "\n",
    "09-iskalna-drevesa.md\n",
    "10-spremenljive-podatkovne-strukture.md\n",
    "11-deli-in-vladaj.md\n",
    "12-dinamicno-programiranje.md\n",
    "13-memoizacija.md\n",
    "```"
   ]
  }
 ],
 "metadata": {
  "jupytext": {
   "cell_metadata_filter": "-all",
   "formats": "md:myst",
   "text_representation": {
    "extension": ".md",
    "format_name": "myst",
    "format_version": "0.8",
    "jupytext_version": "1.5.0"
   }
  },
  "kernelspec": {
   "display_name": "Python 3",
   "language": "python",
   "name": "python3"
  },
  "language_info": {
   "codemirror_mode": {
    "name": "ipython",
    "version": 3
   },
   "file_extension": ".py",
   "mimetype": "text/x-python",
   "name": "python",
   "nbconvert_exporter": "python",
   "pygments_lexer": "ipython3",
   "version": "3.7.9"
  },
  "source_map": [
   14
  ]
 },
 "nbformat": 4,
 "nbformat_minor": 4
}